{
 "cells": [
  {
   "cell_type": "code",
   "execution_count": 1,
   "id": "0a17a4b0",
   "metadata": {},
   "outputs": [
    {
     "name": "stdout",
     "output_type": "stream",
     "text": [
      "('C', 'D#', 'F#', 'A')\n",
      "('C', 'D#', 'A', 'F#')\n",
      "('C', 'F#', 'D#', 'A')\n",
      "('C', 'F#', 'A', 'D#')\n",
      "('C', 'A', 'D#', 'F#')\n",
      "('C', 'A', 'F#', 'D#')\n",
      "('D#', 'C', 'F#', 'A')\n",
      "('D#', 'C', 'A', 'F#')\n",
      "('D#', 'F#', 'C', 'A')\n",
      "('D#', 'F#', 'A', 'C')\n",
      "('D#', 'A', 'C', 'F#')\n",
      "('D#', 'A', 'F#', 'C')\n",
      "('F#', 'C', 'D#', 'A')\n",
      "('F#', 'C', 'A', 'D#')\n",
      "('F#', 'D#', 'C', 'A')\n",
      "('F#', 'D#', 'A', 'C')\n",
      "('F#', 'A', 'C', 'D#')\n",
      "('F#', 'A', 'D#', 'C')\n",
      "('A', 'C', 'D#', 'F#')\n",
      "('A', 'C', 'F#', 'D#')\n",
      "('A', 'D#', 'C', 'F#')\n",
      "('A', 'D#', 'F#', 'C')\n",
      "('A', 'F#', 'C', 'D#')\n",
      "('A', 'F#', 'D#', 'C')\n"
     ]
    }
   ],
   "source": [
    "from itertools import permutations \n",
    "  \n",
    "\n",
    "perm = permutations(['C','D#','F#','A']) \n",
    "# Print the obtained permutations \n",
    "cont = 0\n",
    "for i in list(perm): \n",
    "    print (i) \n",
    "    cont +=1"
   ]
  },
  {
   "cell_type": "markdown",
   "id": "c961d6bb",
   "metadata": {},
   "source": []
  },
  {
   "cell_type": "markdown",
   "id": "9e7a07fb",
   "metadata": {},
   "source": [
    "## Los elementos del grupo simetrico son \n",
    "(),\n",
    "(132),\n",
    "(123),\n",
    "(23),\n",
    "(13),\n",
    "(12)"
   ]
  },
  {
   "cell_type": "markdown",
   "id": "fd3ebf50",
   "metadata": {},
   "source": [
    "### Asi que una vez sabiendo cual es el grupo simetrico podemos hacer lo siguiente a cada numero le vamos a asignar un acorde y luego dependiendo del caso si se desplaza de lugar  cambiaremos una octava o algo por el estilo por ejemplo cuando {1,2,3} es el caso () y {3,1,2} es el caso (132) podemos tomar la sonorizacion del caso () y solo cambiar las octavas de los acordes asociados a cada elemento que cambia  "
   ]
  },
  {
   "cell_type": "code",
   "execution_count": null,
   "id": "9fdd21fa",
   "metadata": {},
   "outputs": [],
   "source": []
  },
  {
   "cell_type": "code",
   "execution_count": null,
   "id": "6de73813",
   "metadata": {},
   "outputs": [],
   "source": []
  },
  {
   "cell_type": "code",
   "execution_count": null,
   "id": "d0b70a6e",
   "metadata": {},
   "outputs": [],
   "source": []
  }
 ],
 "metadata": {
  "kernelspec": {
   "display_name": "Python 3 (ipykernel)",
   "language": "python",
   "name": "python3"
  },
  "language_info": {
   "codemirror_mode": {
    "name": "ipython",
    "version": 3
   },
   "file_extension": ".py",
   "mimetype": "text/x-python",
   "name": "python",
   "nbconvert_exporter": "python",
   "pygments_lexer": "ipython3",
   "version": "3.9.12"
  }
 },
 "nbformat": 4,
 "nbformat_minor": 5
}
