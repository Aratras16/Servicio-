{
 "cells": [
  {
   "cell_type": "code",
   "execution_count": 1,
   "id": "eb4e57ca",
   "metadata": {},
   "outputs": [
    {
     "name": "stdout",
     "output_type": "stream",
     "text": [
      "pygame 2.1.2 (SDL 2.0.18, Python 3.9.12)\n",
      "Hello from the pygame community. https://www.pygame.org/contribute.html\n"
     ]
    }
   ],
   "source": [
    "import pygame,math,pymunk\n",
    "from random import randint"
   ]
  },
  {
   "cell_type": "code",
   "execution_count": 2,
   "id": "d4858cd1",
   "metadata": {},
   "outputs": [
    {
     "data": {
      "text/plain": [
       "(5, 0)"
      ]
     },
     "execution_count": 2,
     "metadata": {},
     "output_type": "execute_result"
    }
   ],
   "source": [
    "pygame.init()"
   ]
  },
  {
   "cell_type": "code",
   "execution_count": 3,
   "id": "7400ffea",
   "metadata": {},
   "outputs": [],
   "source": [
    "display = pygame.display.set_mode((700,700))\n",
    "clock = pygame.time.Clock()\n",
    "space = pymunk.Space()\n",
    "fps = 60"
   ]
  },
  {
   "cell_type": "code",
   "execution_count": 4,
   "id": "f87a3297",
   "metadata": {},
   "outputs": [],
   "source": [
    "def coordenadas(coordenada):\n",
    "    return float(coordenada[0]),700-float(coordenada[1])"
   ]
  },
  {
   "cell_type": "code",
   "execution_count": 5,
   "id": "164bb366",
   "metadata": {},
   "outputs": [],
   "source": [
    "class Particula():\n",
    "    def __init__(self,x,y,collision_type):\n",
    "        angle = randint(0, 359) #Elegimos un ángulo al azar\n",
    "        coeff = 100 #randint(200,1000)\n",
    "        self.body = pymunk.Body()\n",
    "        self.body.position = x,y\n",
    "        self.body.velocity = (coeff*math.cos(angle*math.pi/180), coeff*math.sin(angle*math.pi/180))\n",
    "        self.shape = pymunk.Circle(self.body,10)\n",
    "        self.shape.elasticity = 1\n",
    "        self.shape.density = 1\n",
    "        self.shape.collision_type = collision_type\n",
    "        space.add(self.body,self.shape)\n",
    "    def draw(self):\n",
    "        pygame.draw.circle(display,(255,0,0),coordenadas(self.body.position),10)"
   ]
  },
  {
   "cell_type": "code",
   "execution_count": 6,
   "id": "fc656e3a",
   "metadata": {},
   "outputs": [],
   "source": [
    "colisiones = []"
   ]
  },
  {
   "cell_type": "markdown",
   "id": "d7cedc7f",
   "metadata": {},
   "source": [
    "# Definimos las colisiones "
   ]
  },
  {
   "cell_type": "code",
   "execution_count": 7,
   "id": "2532b973",
   "metadata": {},
   "outputs": [],
   "source": [
    "def collision_3(arbiter,space,data):\n",
    "    #colisiones.append(tuple('u') + tuple(arbiter.shapes[1].body.position/6))\n",
    "    print('arriba')\n",
    "def collision_1(arbiter,space,data):\n",
    "    #colisiones.append(tuple('d')+tuple(arbiter.shapes[1].body.position/6))\n",
    "    print('abajo')\n",
    "def collision_2(arbiter,space,data):\n",
    "    #colisiones.append(tuple('r')+tuple(arbiter.shapes[1].body.position/6 ))\n",
    "    print('derecha')\n",
    "def collision_4(arbiter,space,data):\n",
    "    #colisiones.append(tuple('l')+tuple(arbiter.shapes[1].body.position/6) )\n",
    "    print('izquierda')"
   ]
  },
  {
   "cell_type": "code",
   "execution_count": 8,
   "id": "f4fdb6a1",
   "metadata": {},
   "outputs": [],
   "source": [
    "def crear_segmento(pos1,pos2,collision_type):\n",
    "    segment_body = pymunk.Body(body_type= pymunk.Body.STATIC)\n",
    "    segment_shape = pymunk.Segment(segment_body,pos1,pos2,10)\n",
    "    segment_shape.elasticity = 1\n",
    "    segment_shape.collision_type = collision_type\n",
    "    space.add(segment_body,segment_shape)"
   ]
  },
  {
   "cell_type": "code",
   "execution_count": 9,
   "id": "7f2fd850",
   "metadata": {},
   "outputs": [],
   "source": [
    "pos_tl = (50,50)\n",
    "pos_tr = (650,50)\n",
    "pos_bl = (50,650)\n",
    "pos_br = (650,650)"
   ]
  },
  {
   "cell_type": "code",
   "execution_count": 10,
   "id": "7d057155",
   "metadata": {},
   "outputs": [],
   "source": [
    "segmento1 = crear_segmento(pos_tl,pos_tr,1)\n",
    "segmento2 = crear_segmento(pos_tr,pos_br,2)\n",
    "segmento3 = crear_segmento(pos_br,pos_bl,3)\n",
    "segmento4 = crear_segmento(pos_bl,pos_tl,4)"
   ]
  },
  {
   "cell_type": "code",
   "execution_count": 11,
   "id": "fbbe8bbb",
   "metadata": {},
   "outputs": [
    {
     "name": "stdout",
     "output_type": "stream",
     "text": [
      "izquierda\n",
      "derecha\n",
      "arriba\n",
      "izquierda\n",
      "derecha\n",
      "abajo\n",
      "izquierda\n",
      "derecha\n",
      "arriba\n",
      "izquierda\n",
      "abajo\n",
      "derecha\n",
      "izquierda\n"
     ]
    }
   ],
   "source": [
    "def Simulacion():\n",
    "    particula = Particula(350,100,5)\n",
    "    pared_inferior = space.add_collision_handler(1,5)\n",
    "    pared_inferior.separate = collision_1\n",
    "\n",
    "    pared_superior = space.add_collision_handler(3,5)\n",
    "    pared_superior.separate = collision_3\n",
    "\n",
    "    pared_derecha = space.add_collision_handler(2,5)\n",
    "    pared_derecha.separate = collision_2\n",
    "\n",
    "    pared_izquierda = space.add_collision_handler(4,5)\n",
    "    pared_izquierda.separate = collision_4\n",
    "    while True:\n",
    "        #with open('particula_cuadrado.txt', 'w') as f:\n",
    "         #   for i in colisiones:\n",
    "          #      f.write(\"%s\\n\" %str(i))\n",
    "\n",
    "        for event in pygame.event.get():\n",
    "            if event.type == pygame.QUIT:\n",
    "                return\n",
    "        display.fill((255,255,255))\n",
    "        particula.draw()\n",
    "        pygame.draw.line(display,(0,0,0),pos_tl,pos_tr,5)\n",
    "        pygame.draw.line(display,(0,0,0),pos_tr,pos_br,5)\n",
    "        pygame.draw.line(display,(0,0,0),pos_br,pos_bl,5)\n",
    "        pygame.draw.line(display,(0,0,0),pos_bl,pos_tl,5)\n",
    "        pygame.display.update()\n",
    "        clock.tick(fps)\n",
    "        space.step(1/fps)\n",
    "        \n",
    "\n",
    "Simulacion()"
   ]
  },
  {
   "cell_type": "code",
   "execution_count": null,
   "id": "ef977ab7",
   "metadata": {},
   "outputs": [],
   "source": []
  }
 ],
 "metadata": {
  "kernelspec": {
   "display_name": "Python 3 (ipykernel)",
   "language": "python",
   "name": "python3"
  },
  "language_info": {
   "codemirror_mode": {
    "name": "ipython",
    "version": 3
   },
   "file_extension": ".py",
   "mimetype": "text/x-python",
   "name": "python",
   "nbconvert_exporter": "python",
   "pygments_lexer": "ipython3",
   "version": "3.9.12"
  }
 },
 "nbformat": 4,
 "nbformat_minor": 5
}
