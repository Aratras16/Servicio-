{
 "cells": [
  {
   "cell_type": "code",
   "execution_count": 1,
   "id": "66afea55",
   "metadata": {},
   "outputs": [],
   "source": [
    "from music21 import *"
   ]
  },
  {
   "cell_type": "code",
   "execution_count": 2,
   "id": "b63c2a06",
   "metadata": {},
   "outputs": [],
   "source": [
    "circulo_Mayor = ['C','G','D','A','E','B','F#','C#','G#','D#','A#','F']"
   ]
  },
  {
   "cell_type": "code",
   "execution_count": 3,
   "id": "8febcb21",
   "metadata": {},
   "outputs": [],
   "source": [
    "escala_cromatica = ['C','C#','D','D#','E','F','F#','G','G#','A','A#','B']"
   ]
  },
  {
   "cell_type": "code",
   "execution_count": 4,
   "id": "24321ea0",
   "metadata": {},
   "outputs": [],
   "source": [
    "escala_cromatica_rev = ['B','A#','A','G#','G','F#','F','E','D#','D','C#','C']"
   ]
  },
  {
   "cell_type": "code",
   "execution_count": 5,
   "id": "fae34020",
   "metadata": {},
   "outputs": [],
   "source": [
    "def poligono(lados,rotacion = 0,show = '' ,esc = True,ql = 2):\n",
    "    separacion = int(12/lados)\n",
    "    poligono = stream.Stream()\n",
    "    if rotacion >= 12:\n",
    "        if esc == True:    \n",
    "            for i in range(lados):\n",
    "                lado = note.Note(escala_cromatica_rev[(i*separacion+rotacion) % 12],quarterlenght = ql)\n",
    "                poligono.append(lado)\n",
    "            if show == '':\n",
    "                return poligono\n",
    "            else:\n",
    "                return poligono.show(show)\n",
    "        else:\n",
    "            for i in range(lados):\n",
    "                lado = note.Note(circulo_Mayor[(i*separacion+rotacion) % 12])\n",
    "                poligono.append(lado)\n",
    "            return poligono.show(show)\n",
    "        \n",
    "    else:\n",
    "        if esc == True:    \n",
    "            for i in range(lados):\n",
    "                lado = note.Note(escala_cromatica[(i*separacion+rotacion) % 12],quarterlenght = ql)\n",
    "                poligono.append(lado)\n",
    "            if show == '':\n",
    "                return poligono\n",
    "            else:\n",
    "                return poligono.show(show)\n",
    "        else:\n",
    "            for i in range(lados):\n",
    "                lado = note.Note(circulo_Mayor[(i*separacion+rotacion) % 12])\n",
    "                poligono.append(lado)\n",
    "            return poligono.show(show)\n",
    "        "
   ]
  },
  {
   "cell_type": "code",
   "execution_count": 6,
   "id": "2efa38cb",
   "metadata": {},
   "outputs": [
    {
     "name": "stdout",
     "output_type": "stream",
     "text": [
      "{0.0} <music21.note.Note C>\n",
      "{1.0} <music21.note.Note E>\n",
      "{2.0} <music21.note.Note G#>\n"
     ]
    }
   ],
   "source": [
    "poligono(3,show='text')"
   ]
  },
  {
   "cell_type": "markdown",
   "id": "8abb2dbe",
   "metadata": {},
   "source": [
    "## Como el tetraedro tiene 4 vertices vamos a usar estos para guiarnos, por lo que primero le asignamos una nota a cada vertice "
   ]
  },
  {
   "cell_type": "code",
   "execution_count": 7,
   "id": "304b242d",
   "metadata": {},
   "outputs": [],
   "source": [
    "vertice_1 = note.Note('C')\n",
    "vertice_2 = note.Note('D#')\n",
    "vertice_3 = note.Note('F#')\n",
    "vertice_4 = note.Note('A')\n",
    "# Las notas fueron asignadas usando como referencia la escala croamtica"
   ]
  },
  {
   "cell_type": "markdown",
   "id": "4cf8ce38",
   "metadata": {},
   "source": [
    "## Asi usando los vertices anteriores obtenemos las siguientes caras (triangulos)\n",
    "<img src='solidos/tetraedro.png' width=600 px>"
   ]
  },
  {
   "cell_type": "markdown",
   "id": "8ff5c1ac",
   "metadata": {},
   "source": [
    "## Una vez teniendo esto podemos fijarnos en el grupo de rotaciones del tetraedro\n",
    "<img src='solidos/rotaciones.png' width= 500 px>"
   ]
  },
  {
   "cell_type": "markdown",
   "id": "c579e384",
   "metadata": {},
   "source": [
    "## Asi nuestro tetraedro con colorcitos queda de la siguiente forma\n",
    "<img src='solidos/tetraedro_1.png' width=600 px>"
   ]
  },
  {
   "cell_type": "code",
   "execution_count": 8,
   "id": "dcf4b78d",
   "metadata": {},
   "outputs": [
    {
     "data": {
      "text/html": [
       "\n",
       "                <div id='midiPlayerDiv26'></div>\n",
       "                <link rel=\"stylesheet\" href=\"//cuthbertLab.github.io/music21j/css/m21.css\"\n",
       "                    type=\"text/css\" />\n",
       "                \n",
       "                <script>\n",
       "                require.config({\n",
       "                    paths: {'music21': '//cuthbertLab.github.io/music21j/src/music21'}\n",
       "                });\n",
       "                require(['music21'], function() {\n",
       "                               mp = new music21.miditools.MidiPlayer();\n",
       "                               mp.addPlayer('#midiPlayerDiv26');\n",
       "                               mp.base64Load('data:audio/midi;base64,TVRoZAAAAAYAAQACBABNVHJrAAAAFAD/UQMHoSAA/1gEBAIYCIgA/y8ATVRyawAAAEEA/wMAAOAAQIgAkEVaAJA8WogAgEUAAIA8AACQRVoAkD9aiACARQAAgD8AAJBFWgCQQlqIAIBFAACAQgCIAP8vAA==');\n",
       "                        });\n",
       "                </script>"
      ],
      "text/plain": [
       "<IPython.core.display.HTML object>"
      ]
     },
     "metadata": {},
     "output_type": "display_data"
    }
   ],
   "source": [
    "#Siguiendo el diagrama del grupo de rotaciones haremos un acorde para representar el vertice de arriba de la rotacion \n",
    "# por ejemplo para el primero que es el que esta representado en el dibujo anterior haremos lo siguiente \n",
    "Rotacion_1 = stream.Stream()\n",
    "Vertice_11 = chord.Chord([vertice_4,vertice_1],type = 'quarter')\n",
    "Vertice_21 = chord.Chord([vertice_4,vertice_2],type = 'quarter' )\n",
    "Vertice_31 = chord.Chord([vertice_4,vertice_3],type = 'quarter')\n",
    "# el vertice_4 es el que esta arriba y 'no se mueve'\n",
    "Rotacion_1.append(Vertice_11)\n",
    "Rotacion_1.append(Vertice_21)\n",
    "Rotacion_1.append(Vertice_31)\n",
    "Rotacion_1.show('midi')"
   ]
  },
  {
   "cell_type": "markdown",
   "id": "4bdab887",
   "metadata": {},
   "source": [
    "# PRUEBAS"
   ]
  },
  {
   "cell_type": "markdown",
   "id": "137c943e",
   "metadata": {},
   "source": [
    "## Primero haremos una prueba con el grupo simetrico [1,2,3]"
   ]
  },
  {
   "cell_type": "markdown",
   "id": "c59548f6",
   "metadata": {},
   "source": [
    "## Los elementos del grupo simetrico son \n",
    "(),\n",
    "(132),\n",
    "(123),\n",
    "(23),\n",
    "(13),\n",
    "(12)"
   ]
  },
  {
   "cell_type": "markdown",
   "id": "94f41435",
   "metadata": {},
   "source": [
    "### Asi que una vez sabiendo cual es el grupo simetrico podemos hacer lo siguiente a cada numero le vamos a asignar un acorde y luego dependiendo del caso si se desplaza de lugar  cambiaremos una octava o algo por el estilo por ejemplo cuando {1,2,3} es el caso () y {3,1,2} es el caso (132) podemos tomar la sonorizacion del caso () y solo cambiar las octavas de los acordes asociados a cada elemento que cambia  "
   ]
  },
  {
   "cell_type": "markdown",
   "id": "064be0c3",
   "metadata": {},
   "source": [
    "------------------------------------"
   ]
  },
  {
   "cell_type": "markdown",
   "id": "436d1ba5",
   "metadata": {},
   "source": [
    "Definimos las notas que van a estar asociados a cada \"vertice\" del grupo simetrico [1,2,3]"
   ]
  },
  {
   "cell_type": "code",
   "execution_count": 9,
   "id": "65c9a795",
   "metadata": {},
   "outputs": [],
   "source": [
    "v = ['C','E','G']"
   ]
  },
  {
   "cell_type": "markdown",
   "id": "ecd2d153",
   "metadata": {},
   "source": [
    "### El primer elemento del grupo simetrico, () sonaria asi"
   ]
  },
  {
   "cell_type": "code",
   "execution_count": 10,
   "id": "00f21b18",
   "metadata": {},
   "outputs": [],
   "source": [
    "vertice1_1 = chord.Chord([v[0],'A1'],type = 'whole')\n",
    "vertice1_2 = chord.Chord([v[1],'A2'],type = 'whole')\n",
    "vertice1_3 = chord.Chord([v[2],'A3'],type = 'whole')"
   ]
  },
  {
   "cell_type": "code",
   "execution_count": 11,
   "id": "0c046e0d",
   "metadata": {},
   "outputs": [],
   "source": [
    "E_1 = stream.Stream()\n",
    "E_1.append(vertice1_1)\n",
    "E_1.append(vertice1_2)\n",
    "E_1.append(vertice1_3)"
   ]
  },
  {
   "cell_type": "code",
   "execution_count": 12,
   "id": "fbcd6912",
   "metadata": {},
   "outputs": [
    {
     "name": "stdout",
     "output_type": "stream",
     "text": [
      "{0.0} <music21.chord.Chord C A1>\n",
      "{4.0} <music21.chord.Chord E A2>\n",
      "{8.0} <music21.chord.Chord G A3>\n"
     ]
    }
   ],
   "source": [
    "E_1.show('text')"
   ]
  },
  {
   "cell_type": "code",
   "execution_count": 13,
   "id": "a92f1767",
   "metadata": {},
   "outputs": [
    {
     "data": {
      "text/html": [
       "\n",
       "                <div id='midiPlayerDiv50'></div>\n",
       "                <link rel=\"stylesheet\" href=\"//cuthbertLab.github.io/music21j/css/m21.css\"\n",
       "                    type=\"text/css\" />\n",
       "                \n",
       "                <script>\n",
       "                require.config({\n",
       "                    paths: {'music21': '//cuthbertLab.github.io/music21j/src/music21'}\n",
       "                });\n",
       "                require(['music21'], function() {\n",
       "                               mp = new music21.miditools.MidiPlayer();\n",
       "                               mp.addPlayer('#midiPlayerDiv50');\n",
       "                               mp.base64Load('data:audio/midi;base64,TVRoZAAAAAYAAQACBABNVHJrAAAAFAD/UQMHoSAA/1gEBAIYCIgA/y8ATVRyawAAAEEA/wMAAOAAQIgAkDxaAJAhWqAAgDwAAIAhAACQQFoAkC1aoACAQAAAgC0AAJBDWgCQOVqgAIBDAACAOQCIAP8vAA==');\n",
       "                        });\n",
       "                </script>"
      ],
      "text/plain": [
       "<IPython.core.display.HTML object>"
      ]
     },
     "metadata": {},
     "output_type": "display_data"
    }
   ],
   "source": [
    "E_1.show('midi')"
   ]
  },
  {
   "cell_type": "markdown",
   "id": "4c6c5636",
   "metadata": {},
   "source": [
    "### El segundo elemento del grupo simetrico, (132) sonaria asi"
   ]
  },
  {
   "cell_type": "code",
   "execution_count": 14,
   "id": "7a7566f8",
   "metadata": {},
   "outputs": [],
   "source": [
    "vertice2_1 = chord.Chord([v[0],'A3'],type = 'whole')\n",
    "vertice2_2 = chord.Chord([v[1],'A1'],type = 'whole')\n",
    "vertice2_3 = chord.Chord([v[2],'A2'],type = 'whole')\n",
    "E_2 = stream.Stream()\n",
    "E_2.append(vertice2_3)\n",
    "E_2.append(vertice2_1)\n",
    "E_2.append(vertice2_2)\n"
   ]
  },
  {
   "cell_type": "code",
   "execution_count": 15,
   "id": "7ce8da17",
   "metadata": {},
   "outputs": [
    {
     "name": "stdout",
     "output_type": "stream",
     "text": [
      "{0.0} <music21.chord.Chord G A2>\n",
      "{4.0} <music21.chord.Chord C A3>\n",
      "{8.0} <music21.chord.Chord E A1>\n"
     ]
    }
   ],
   "source": [
    "E_2.show('text')"
   ]
  },
  {
   "cell_type": "code",
   "execution_count": 16,
   "id": "2c365bfd",
   "metadata": {},
   "outputs": [
    {
     "data": {
      "text/html": [
       "\n",
       "                <div id='midiPlayerDiv74'></div>\n",
       "                <link rel=\"stylesheet\" href=\"//cuthbertLab.github.io/music21j/css/m21.css\"\n",
       "                    type=\"text/css\" />\n",
       "                \n",
       "                <script>\n",
       "                require.config({\n",
       "                    paths: {'music21': '//cuthbertLab.github.io/music21j/src/music21'}\n",
       "                });\n",
       "                require(['music21'], function() {\n",
       "                               mp = new music21.miditools.MidiPlayer();\n",
       "                               mp.addPlayer('#midiPlayerDiv74');\n",
       "                               mp.base64Load('data:audio/midi;base64,TVRoZAAAAAYAAQACBABNVHJrAAAAFAD/UQMHoSAA/1gEBAIYCIgA/y8ATVRyawAAAEEA/wMAAOAAQIgAkENaAJAtWqAAgEMAAIAtAACQPFoAkDlaoACAPAAAgDkAAJBAWgCQIVqgAIBAAACAIQCIAP8vAA==');\n",
       "                        });\n",
       "                </script>"
      ],
      "text/plain": [
       "<IPython.core.display.HTML object>"
      ]
     },
     "metadata": {},
     "output_type": "display_data"
    }
   ],
   "source": [
    "E_2.show('midi')"
   ]
  },
  {
   "cell_type": "markdown",
   "id": "44c8321d",
   "metadata": {},
   "source": [
    "Basicamente en el ejemplo anterior lo que estamos haciendo es referenciar con el acorde Ai de donde viene el vertice originalmente "
   ]
  },
  {
   "cell_type": "markdown",
   "id": "5f0947ea",
   "metadata": {},
   "source": [
    "### El tercer elemento del grupo simetrico, (123) sonaria asi"
   ]
  },
  {
   "cell_type": "code",
   "execution_count": 17,
   "id": "35474e82",
   "metadata": {},
   "outputs": [],
   "source": [
    "vertice3_1 = chord.Chord([v[0],'A2'],type = 'whole')\n",
    "vertice3_2 = chord.Chord([v[1],'A3'],type = 'whole')\n",
    "vertice3_3 = chord.Chord([v[2],'A1'],type = 'whole')"
   ]
  },
  {
   "cell_type": "code",
   "execution_count": 18,
   "id": "4303147c",
   "metadata": {},
   "outputs": [],
   "source": [
    "E_3 = stream.Stream()\n",
    "E_3.append(vertice3_2)\n",
    "E_3.append(vertice3_3)\n",
    "E_3.append(vertice3_1)\n"
   ]
  },
  {
   "cell_type": "code",
   "execution_count": 19,
   "id": "a7d579d9",
   "metadata": {},
   "outputs": [
    {
     "name": "stdout",
     "output_type": "stream",
     "text": [
      "{0.0} <music21.chord.Chord E A3>\n",
      "{4.0} <music21.chord.Chord G A1>\n",
      "{8.0} <music21.chord.Chord C A2>\n"
     ]
    }
   ],
   "source": [
    "E_3.show('text')"
   ]
  },
  {
   "cell_type": "code",
   "execution_count": 20,
   "id": "867d7ce0",
   "metadata": {},
   "outputs": [
    {
     "data": {
      "text/html": [
       "\n",
       "                <div id='midiPlayerDiv98'></div>\n",
       "                <link rel=\"stylesheet\" href=\"//cuthbertLab.github.io/music21j/css/m21.css\"\n",
       "                    type=\"text/css\" />\n",
       "                \n",
       "                <script>\n",
       "                require.config({\n",
       "                    paths: {'music21': '//cuthbertLab.github.io/music21j/src/music21'}\n",
       "                });\n",
       "                require(['music21'], function() {\n",
       "                               mp = new music21.miditools.MidiPlayer();\n",
       "                               mp.addPlayer('#midiPlayerDiv98');\n",
       "                               mp.base64Load('data:audio/midi;base64,TVRoZAAAAAYAAQACBABNVHJrAAAAFAD/UQMHoSAA/1gEBAIYCIgA/y8ATVRyawAAAEEA/wMAAOAAQIgAkEBaAJA5WqAAgEAAAIA5AACQQ1oAkCFaoACAQwAAgCEAAJA8WgCQLVqgAIA8AACALQCIAP8vAA==');\n",
       "                        });\n",
       "                </script>"
      ],
      "text/plain": [
       "<IPython.core.display.HTML object>"
      ]
     },
     "metadata": {},
     "output_type": "display_data"
    }
   ],
   "source": [
    "E_3.show('midi')"
   ]
  },
  {
   "cell_type": "markdown",
   "id": "6f8455fb",
   "metadata": {},
   "source": [
    "### El cuarto elemento del grupo simetrico es decir (23), sonaria asi"
   ]
  },
  {
   "cell_type": "code",
   "execution_count": 21,
   "id": "a354e035",
   "metadata": {},
   "outputs": [],
   "source": [
    "vertice4_1 = chord.Chord([v[0],'A1'],type = 'whole')\n",
    "vertice4_2 = chord.Chord([v[1],'A3'],type = 'whole')\n",
    "vertice4_3 = chord.Chord([v[2],'A2'],type = 'whole')"
   ]
  },
  {
   "cell_type": "code",
   "execution_count": 22,
   "id": "60b5f580",
   "metadata": {},
   "outputs": [],
   "source": [
    "E_4 = stream.Stream()\n",
    "E_4.append(vertice4_1)\n",
    "E_4.append(vertice4_3)\n",
    "E_4.append(vertice4_2)"
   ]
  },
  {
   "cell_type": "code",
   "execution_count": 23,
   "id": "2cbb0893",
   "metadata": {},
   "outputs": [
    {
     "name": "stdout",
     "output_type": "stream",
     "text": [
      "{0.0} <music21.chord.Chord C A1>\n",
      "{4.0} <music21.chord.Chord G A2>\n",
      "{8.0} <music21.chord.Chord E A3>\n"
     ]
    }
   ],
   "source": [
    "E_4.show('text')"
   ]
  },
  {
   "cell_type": "code",
   "execution_count": 24,
   "id": "b59f56f3",
   "metadata": {},
   "outputs": [
    {
     "data": {
      "text/html": [
       "\n",
       "                <div id='midiPlayerDiv122'></div>\n",
       "                <link rel=\"stylesheet\" href=\"//cuthbertLab.github.io/music21j/css/m21.css\"\n",
       "                    type=\"text/css\" />\n",
       "                \n",
       "                <script>\n",
       "                require.config({\n",
       "                    paths: {'music21': '//cuthbertLab.github.io/music21j/src/music21'}\n",
       "                });\n",
       "                require(['music21'], function() {\n",
       "                               mp = new music21.miditools.MidiPlayer();\n",
       "                               mp.addPlayer('#midiPlayerDiv122');\n",
       "                               mp.base64Load('data:audio/midi;base64,TVRoZAAAAAYAAQACBABNVHJrAAAAFAD/UQMHoSAA/1gEBAIYCIgA/y8ATVRyawAAAEEA/wMAAOAAQIgAkDxaAJAhWqAAgDwAAIAhAACQQ1oAkC1aoACAQwAAgC0AAJBAWgCQOVqgAIBAAACAOQCIAP8vAA==');\n",
       "                        });\n",
       "                </script>"
      ],
      "text/plain": [
       "<IPython.core.display.HTML object>"
      ]
     },
     "metadata": {},
     "output_type": "display_data"
    }
   ],
   "source": [
    "E_4.show('midi')"
   ]
  },
  {
   "cell_type": "markdown",
   "id": "f44aecab",
   "metadata": {},
   "source": [
    "### El quinto  elemento del grupo simetrico es decir (13), sonaria asi\n"
   ]
  },
  {
   "cell_type": "code",
   "execution_count": 25,
   "id": "a62c7fab",
   "metadata": {},
   "outputs": [],
   "source": [
    "vertice5_1 = chord.Chord([v[0],'A3'],type = 'whole')\n",
    "vertice5_2 = chord.Chord([v[1],'A2'],type = 'whole')\n",
    "vertice5_3 = chord.Chord([v[2],'A1'],type = 'whole')"
   ]
  },
  {
   "cell_type": "code",
   "execution_count": 26,
   "id": "7044cd8f",
   "metadata": {},
   "outputs": [],
   "source": [
    "E_5 = stream.Stream()\n",
    "E_5.append(vertice5_3)\n",
    "E_5.append(vertice5_2)\n",
    "E_5.append(vertice5_1)"
   ]
  },
  {
   "cell_type": "code",
   "execution_count": 27,
   "id": "1b25371e",
   "metadata": {},
   "outputs": [
    {
     "name": "stdout",
     "output_type": "stream",
     "text": [
      "{0.0} <music21.chord.Chord G A1>\n",
      "{4.0} <music21.chord.Chord E A2>\n",
      "{8.0} <music21.chord.Chord C A3>\n"
     ]
    }
   ],
   "source": [
    "E_5.show('text')"
   ]
  },
  {
   "cell_type": "code",
   "execution_count": 28,
   "id": "3fac616f",
   "metadata": {},
   "outputs": [
    {
     "data": {
      "text/html": [
       "\n",
       "                <div id='midiPlayerDiv146'></div>\n",
       "                <link rel=\"stylesheet\" href=\"//cuthbertLab.github.io/music21j/css/m21.css\"\n",
       "                    type=\"text/css\" />\n",
       "                \n",
       "                <script>\n",
       "                require.config({\n",
       "                    paths: {'music21': '//cuthbertLab.github.io/music21j/src/music21'}\n",
       "                });\n",
       "                require(['music21'], function() {\n",
       "                               mp = new music21.miditools.MidiPlayer();\n",
       "                               mp.addPlayer('#midiPlayerDiv146');\n",
       "                               mp.base64Load('data:audio/midi;base64,TVRoZAAAAAYAAQACBABNVHJrAAAAFAD/UQMHoSAA/1gEBAIYCIgA/y8ATVRyawAAAEEA/wMAAOAAQIgAkENaAJAhWqAAgEMAAIAhAACQQFoAkC1aoACAQAAAgC0AAJA8WgCQOVqgAIA8AACAOQCIAP8vAA==');\n",
       "                        });\n",
       "                </script>"
      ],
      "text/plain": [
       "<IPython.core.display.HTML object>"
      ]
     },
     "metadata": {},
     "output_type": "display_data"
    }
   ],
   "source": [
    "E_5.show('midi')"
   ]
  },
  {
   "cell_type": "markdown",
   "id": "50873cdb",
   "metadata": {},
   "source": [
    "### El sexto  elemento del grupo simetrico es decir (12), sonaria asi"
   ]
  },
  {
   "cell_type": "code",
   "execution_count": 29,
   "id": "fca2ca29",
   "metadata": {},
   "outputs": [],
   "source": [
    "vertice6_1 = chord.Chord([v[0],'A2'],type = 'whole')\n",
    "vertice6_2 = chord.Chord([v[1],'A1'],type = 'whole')\n",
    "vertice6_3 = chord.Chord([v[2],'A3'],type = 'whole')"
   ]
  },
  {
   "cell_type": "code",
   "execution_count": 30,
   "id": "b0978e17",
   "metadata": {},
   "outputs": [],
   "source": [
    "E_6 = stream.Stream()\n",
    "E_6.append(vertice6_2)\n",
    "E_6.append(vertice6_1)\n",
    "E_6.append(vertice6_3)"
   ]
  },
  {
   "cell_type": "code",
   "execution_count": 31,
   "id": "cdc7a631",
   "metadata": {},
   "outputs": [
    {
     "name": "stdout",
     "output_type": "stream",
     "text": [
      "{0.0} <music21.chord.Chord E A1>\n",
      "{4.0} <music21.chord.Chord C A2>\n",
      "{8.0} <music21.chord.Chord G A3>\n"
     ]
    }
   ],
   "source": [
    "E_6.show('text')"
   ]
  },
  {
   "cell_type": "code",
   "execution_count": 32,
   "id": "7eac3e24",
   "metadata": {},
   "outputs": [
    {
     "data": {
      "text/html": [
       "\n",
       "                <div id='midiPlayerDiv170'></div>\n",
       "                <link rel=\"stylesheet\" href=\"//cuthbertLab.github.io/music21j/css/m21.css\"\n",
       "                    type=\"text/css\" />\n",
       "                \n",
       "                <script>\n",
       "                require.config({\n",
       "                    paths: {'music21': '//cuthbertLab.github.io/music21j/src/music21'}\n",
       "                });\n",
       "                require(['music21'], function() {\n",
       "                               mp = new music21.miditools.MidiPlayer();\n",
       "                               mp.addPlayer('#midiPlayerDiv170');\n",
       "                               mp.base64Load('data:audio/midi;base64,TVRoZAAAAAYAAQACBABNVHJrAAAAFAD/UQMHoSAA/1gEBAIYCIgA/y8ATVRyawAAAEEA/wMAAOAAQIgAkEBaAJAhWqAAgEAAAIAhAACQPFoAkC1aoACAPAAAgC0AAJBDWgCQOVqgAIBDAACAOQCIAP8vAA==');\n",
       "                        });\n",
       "                </script>"
      ],
      "text/plain": [
       "<IPython.core.display.HTML object>"
      ]
     },
     "metadata": {},
     "output_type": "display_data"
    }
   ],
   "source": [
    "E_6.show('midi')"
   ]
  },
  {
   "cell_type": "markdown",
   "id": "3745aa8d",
   "metadata": {},
   "source": [
    "# Ahora vamos a sonorizar el grupo simetrico [1,2,3,4] "
   ]
  },
  {
   "cell_type": "markdown",
   "id": "27af5ad7",
   "metadata": {},
   "source": [
    "Los elementos del grupo simetrico dado por [1,2,3,4] son \n",
    "<ol>\n",
    "    <li>()\n",
    "    <li>(13)(24)\n",
    "    <li>(14)(23)\n",
    "    <li>(12)(34)\n",
    "    <li>(234)\n",
    "    <li>(132)\n",
    "    <li>(143)\n",
    "    <li>(124)\n",
    "    <li>(243)\n",
    "    <li>(134)\n",
    "    <li>(142)\n",
    "    <li>(123)\n",
    "    <li>(34)\n",
    "    <li>(1324)\n",
    "    <li>(1423)\n",
    "    <li>(12)\n",
    "    <li>(23)\n",
    "    <li>(1342)\n",
    "    <li>(14)\n",
    "    <li>(1243)\n",
    "    <li>(24)\n",
    "    <li>(13)\n",
    "    <li>(1432)\n",
    "    <li>(1234)\n",
    "\n",
    "\n",
    "    \n",
    "\n",
    "\n",
    "\n"
   ]
  },
  {
   "cell_type": "markdown",
   "id": "ef2e7d79",
   "metadata": {},
   "source": [
    "Definimos las notas que van a estar asociados a cada \"vertice\" del grupo simetrico [1,2,3,4]"
   ]
  },
  {
   "cell_type": "code",
   "execution_count": 33,
   "id": "b2fb83af",
   "metadata": {},
   "outputs": [],
   "source": [
    "ver = ['C','D#','F#','A']"
   ]
  },
  {
   "cell_type": "markdown",
   "id": "44bf18ef",
   "metadata": {},
   "source": [
    "### Primer elemento ()"
   ]
  },
  {
   "cell_type": "code",
   "execution_count": 34,
   "id": "3f61d120",
   "metadata": {},
   "outputs": [],
   "source": [
    "verticet1_1 = chord.Chord([ver[0],'B1'],type = 'whole')\n",
    "verticet1_2 = chord.Chord([ver[1],'B2'],type = 'whole')\n",
    "verticet1_3 = chord.Chord([ver[2],'B3'],type = 'whole')\n",
    "verticet1_4 = chord.Chord([ver[3],'B4'],type = 'whole')"
   ]
  },
  {
   "cell_type": "code",
   "execution_count": 35,
   "id": "4fc4ed69",
   "metadata": {},
   "outputs": [],
   "source": [
    "El_1 = stream.Stream()\n",
    "El_1.append(verticet1_1)\n",
    "El_1.append(verticet1_2)\n",
    "El_1.append(verticet1_3)\n",
    "El_1.append(verticet1_4)"
   ]
  },
  {
   "cell_type": "code",
   "execution_count": 36,
   "id": "565fa603",
   "metadata": {},
   "outputs": [
    {
     "name": "stdout",
     "output_type": "stream",
     "text": [
      "{0.0} <music21.chord.Chord C B1>\n",
      "{4.0} <music21.chord.Chord D# B2>\n",
      "{8.0} <music21.chord.Chord F# B3>\n",
      "{12.0} <music21.chord.Chord A B4>\n"
     ]
    }
   ],
   "source": [
    "El_1.show('text')"
   ]
  },
  {
   "cell_type": "code",
   "execution_count": 37,
   "id": "f6af84c0",
   "metadata": {},
   "outputs": [
    {
     "data": {
      "text/html": [
       "\n",
       "                <div id='midiPlayerDiv199'></div>\n",
       "                <link rel=\"stylesheet\" href=\"//cuthbertLab.github.io/music21j/css/m21.css\"\n",
       "                    type=\"text/css\" />\n",
       "                \n",
       "                <script>\n",
       "                require.config({\n",
       "                    paths: {'music21': '//cuthbertLab.github.io/music21j/src/music21'}\n",
       "                });\n",
       "                require(['music21'], function() {\n",
       "                               mp = new music21.miditools.MidiPlayer();\n",
       "                               mp.addPlayer('#midiPlayerDiv199');\n",
       "                               mp.base64Load('data:audio/midi;base64,TVRoZAAAAAYAAQACBABNVHJrAAAAFAD/UQMHoSAA/1gEBAIYCIgA/y8ATVRyawAAAFIA/wMAAOAAQIgAkDxaAJAjWqAAgDwAAIAjAACQP1oAkC9aoACAPwAAgC8AAJBCWgCQO1qgAIBCAACAOwAAkEVaAJBHWqAAgEUAAIBHAIgA/y8A');\n",
       "                        });\n",
       "                </script>"
      ],
      "text/plain": [
       "<IPython.core.display.HTML object>"
      ]
     },
     "metadata": {},
     "output_type": "display_data"
    }
   ],
   "source": [
    "El_1.show('midi')"
   ]
  },
  {
   "cell_type": "markdown",
   "id": "e77f1dd7",
   "metadata": {},
   "source": [
    "### Segundo elemento (13)(24)"
   ]
  },
  {
   "cell_type": "code",
   "execution_count": 38,
   "id": "05afd7dd",
   "metadata": {},
   "outputs": [
    {
     "name": "stdout",
     "output_type": "stream",
     "text": [
      "{0.0} <music21.chord.Chord F# B1>\n",
      "{4.0} <music21.chord.Chord A B2>\n",
      "{8.0} <music21.chord.Chord C B3>\n",
      "{12.0} <music21.chord.Chord D# B4>\n"
     ]
    },
    {
     "data": {
      "text/html": [
       "\n",
       "                <div id='midiPlayerDiv228'></div>\n",
       "                <link rel=\"stylesheet\" href=\"//cuthbertLab.github.io/music21j/css/m21.css\"\n",
       "                    type=\"text/css\" />\n",
       "                \n",
       "                <script>\n",
       "                require.config({\n",
       "                    paths: {'music21': '//cuthbertLab.github.io/music21j/src/music21'}\n",
       "                });\n",
       "                require(['music21'], function() {\n",
       "                               mp = new music21.miditools.MidiPlayer();\n",
       "                               mp.addPlayer('#midiPlayerDiv228');\n",
       "                               mp.base64Load('data:audio/midi;base64,TVRoZAAAAAYAAQACBABNVHJrAAAAFAD/UQMHoSAA/1gEBAIYCIgA/y8ATVRyawAAAFIA/wMAAOAAQIgAkEJaAJAjWqAAgEIAAIAjAACQRVoAkC9aoACARQAAgC8AAJA8WgCQO1qgAIA8AACAOwAAkD9aAJBHWqAAgD8AAIBHAIgA/y8A');\n",
       "                        });\n",
       "                </script>"
      ],
      "text/plain": [
       "<IPython.core.display.HTML object>"
      ]
     },
     "metadata": {},
     "output_type": "display_data"
    }
   ],
   "source": [
    "verticet2_1 = chord.Chord([ver[0],'B3'],type = 'whole')\n",
    "verticet2_2 = chord.Chord([ver[1],'B4'],type = 'whole')\n",
    "verticet2_3 = chord.Chord([ver[2],'B1'],type = 'whole')\n",
    "verticet2_4 = chord.Chord([ver[3],'B2'],type = 'whole')\n",
    "\n",
    "El_2 = stream.Stream()\n",
    "El_2.append(verticet2_3)\n",
    "El_2.append(verticet2_4)\n",
    "El_2.append(verticet2_1)\n",
    "El_2.append(verticet2_2)\n",
    "\n",
    "El_2.show('text')\n",
    "\n",
    "El_2.show('midi')"
   ]
  },
  {
   "cell_type": "markdown",
   "id": "fa388b15",
   "metadata": {},
   "source": [
    "### Tercer elemento (14)(23)"
   ]
  },
  {
   "cell_type": "code",
   "execution_count": 39,
   "id": "3da66c68",
   "metadata": {},
   "outputs": [
    {
     "name": "stdout",
     "output_type": "stream",
     "text": [
      "{0.0} <music21.chord.Chord A B1>\n",
      "{4.0} <music21.chord.Chord F# B2>\n",
      "{8.0} <music21.chord.Chord D# B3>\n",
      "{12.0} <music21.chord.Chord C B4>\n"
     ]
    },
    {
     "data": {
      "text/html": [
       "\n",
       "                <div id='midiPlayerDiv257'></div>\n",
       "                <link rel=\"stylesheet\" href=\"//cuthbertLab.github.io/music21j/css/m21.css\"\n",
       "                    type=\"text/css\" />\n",
       "                \n",
       "                <script>\n",
       "                require.config({\n",
       "                    paths: {'music21': '//cuthbertLab.github.io/music21j/src/music21'}\n",
       "                });\n",
       "                require(['music21'], function() {\n",
       "                               mp = new music21.miditools.MidiPlayer();\n",
       "                               mp.addPlayer('#midiPlayerDiv257');\n",
       "                               mp.base64Load('data:audio/midi;base64,TVRoZAAAAAYAAQACBABNVHJrAAAAFAD/UQMHoSAA/1gEBAIYCIgA/y8ATVRyawAAAFIA/wMAAOAAQIgAkEVaAJAjWqAAgEUAAIAjAACQQloAkC9aoACAQgAAgC8AAJA/WgCQO1qgAIA/AACAOwAAkDxaAJBHWqAAgDwAAIBHAIgA/y8A');\n",
       "                        });\n",
       "                </script>"
      ],
      "text/plain": [
       "<IPython.core.display.HTML object>"
      ]
     },
     "metadata": {},
     "output_type": "display_data"
    }
   ],
   "source": [
    "verticet3_1 = chord.Chord([ver[0],'B4'],type = 'whole')\n",
    "verticet3_2 = chord.Chord([ver[1],'B3'],type = 'whole')\n",
    "verticet3_3 = chord.Chord([ver[2],'B2'],type = 'whole')\n",
    "verticet3_4 = chord.Chord([ver[3],'B1'],type = 'whole')\n",
    "\n",
    "El_3 = stream.Stream()\n",
    "El_3.append(verticet3_4)\n",
    "El_3.append(verticet3_3)\n",
    "El_3.append(verticet3_2)\n",
    "El_3.append(verticet3_1)\n",
    "\n",
    "El_3.show('text')\n",
    "\n",
    "El_3.show('midi')"
   ]
  },
  {
   "cell_type": "markdown",
   "id": "8e2aecf6",
   "metadata": {},
   "source": [
    "### Cuarto elemento (12)(34)"
   ]
  },
  {
   "cell_type": "code",
   "execution_count": 40,
   "id": "00d85b90",
   "metadata": {},
   "outputs": [
    {
     "name": "stdout",
     "output_type": "stream",
     "text": [
      "{0.0} <music21.chord.Chord D# B1>\n",
      "{4.0} <music21.chord.Chord C B2>\n",
      "{8.0} <music21.chord.Chord A B3>\n",
      "{12.0} <music21.chord.Chord F# B4>\n"
     ]
    },
    {
     "data": {
      "text/html": [
       "\n",
       "                <div id='midiPlayerDiv286'></div>\n",
       "                <link rel=\"stylesheet\" href=\"//cuthbertLab.github.io/music21j/css/m21.css\"\n",
       "                    type=\"text/css\" />\n",
       "                \n",
       "                <script>\n",
       "                require.config({\n",
       "                    paths: {'music21': '//cuthbertLab.github.io/music21j/src/music21'}\n",
       "                });\n",
       "                require(['music21'], function() {\n",
       "                               mp = new music21.miditools.MidiPlayer();\n",
       "                               mp.addPlayer('#midiPlayerDiv286');\n",
       "                               mp.base64Load('data:audio/midi;base64,TVRoZAAAAAYAAQACBABNVHJrAAAAFAD/UQMHoSAA/1gEBAIYCIgA/y8ATVRyawAAAFIA/wMAAOAAQIgAkD9aAJAjWqAAgD8AAIAjAACQPFoAkC9aoACAPAAAgC8AAJBFWgCQO1qgAIBFAACAOwAAkEJaAJBHWqAAgEIAAIBHAIgA/y8A');\n",
       "                        });\n",
       "                </script>"
      ],
      "text/plain": [
       "<IPython.core.display.HTML object>"
      ]
     },
     "metadata": {},
     "output_type": "display_data"
    }
   ],
   "source": [
    "verticet4_1 = chord.Chord([ver[0],'B2'],type = 'whole')\n",
    "verticet4_2 = chord.Chord([ver[1],'B1'],type = 'whole')\n",
    "verticet4_3 = chord.Chord([ver[2],'B4'],type = 'whole')\n",
    "verticet4_4 = chord.Chord([ver[3],'B3'],type = 'whole')\n",
    "\n",
    "El_4 = stream.Stream()\n",
    "El_4.append(verticet4_2)\n",
    "El_4.append(verticet4_1)\n",
    "El_4.append(verticet4_4)\n",
    "El_4.append(verticet4_3)\n",
    "\n",
    "El_4.show('text')\n",
    "\n",
    "El_4.show('midi')"
   ]
  },
  {
   "cell_type": "markdown",
   "id": "983f8229",
   "metadata": {},
   "source": [
    "### Quinto elemento (234)"
   ]
  },
  {
   "cell_type": "code",
   "execution_count": 41,
   "id": "bfcddff7",
   "metadata": {},
   "outputs": [
    {
     "name": "stdout",
     "output_type": "stream",
     "text": [
      "{0.0} <music21.chord.Chord C B1>\n",
      "{4.0} <music21.chord.Chord F# B4>\n",
      "{8.0} <music21.chord.Chord A B2>\n",
      "{12.0} <music21.chord.Chord D# B3>\n"
     ]
    },
    {
     "data": {
      "text/html": [
       "\n",
       "                <div id='midiPlayerDiv315'></div>\n",
       "                <link rel=\"stylesheet\" href=\"//cuthbertLab.github.io/music21j/css/m21.css\"\n",
       "                    type=\"text/css\" />\n",
       "                \n",
       "                <script>\n",
       "                require.config({\n",
       "                    paths: {'music21': '//cuthbertLab.github.io/music21j/src/music21'}\n",
       "                });\n",
       "                require(['music21'], function() {\n",
       "                               mp = new music21.miditools.MidiPlayer();\n",
       "                               mp.addPlayer('#midiPlayerDiv315');\n",
       "                               mp.base64Load('data:audio/midi;base64,TVRoZAAAAAYAAQACBABNVHJrAAAAFAD/UQMHoSAA/1gEBAIYCIgA/y8ATVRyawAAAFIA/wMAAOAAQIgAkDxaAJAjWqAAgDwAAIAjAACQQloAkEdaoACAQgAAgEcAAJBFWgCQL1qgAIBFAACALwAAkD9aAJA7WqAAgD8AAIA7AIgA/y8A');\n",
       "                        });\n",
       "                </script>"
      ],
      "text/plain": [
       "<IPython.core.display.HTML object>"
      ]
     },
     "metadata": {},
     "output_type": "display_data"
    }
   ],
   "source": [
    "verticet5_1 = chord.Chord([ver[0],'B1'],type = 'whole')\n",
    "verticet5_2 = chord.Chord([ver[1],'B3'],type = 'whole')\n",
    "verticet5_3 = chord.Chord([ver[2],'B4'],type = 'whole')\n",
    "verticet5_4 = chord.Chord([ver[3],'B2'],type = 'whole')\n",
    "\n",
    "El_5 = stream.Stream()\n",
    "El_5.append(verticet5_1)\n",
    "El_5.append(verticet5_3)\n",
    "El_5.append(verticet5_4)\n",
    "El_5.append(verticet5_2)\n",
    "\n",
    "El_5.show('text')\n",
    "\n",
    "El_5.show('midi')"
   ]
  },
  {
   "cell_type": "markdown",
   "id": "8f0ffcdc",
   "metadata": {},
   "source": [
    "### Sexto elemento (132)"
   ]
  },
  {
   "cell_type": "code",
   "execution_count": 42,
   "id": "813f1e07",
   "metadata": {},
   "outputs": [
    {
     "name": "stdout",
     "output_type": "stream",
     "text": [
      "{0.0} <music21.chord.Chord F# B2>\n",
      "{4.0} <music21.chord.Chord C B3>\n",
      "{8.0} <music21.chord.Chord D# B1>\n",
      "{12.0} <music21.chord.Chord A B4>\n"
     ]
    },
    {
     "data": {
      "text/html": [
       "\n",
       "                <div id='midiPlayerDiv344'></div>\n",
       "                <link rel=\"stylesheet\" href=\"//cuthbertLab.github.io/music21j/css/m21.css\"\n",
       "                    type=\"text/css\" />\n",
       "                \n",
       "                <script>\n",
       "                require.config({\n",
       "                    paths: {'music21': '//cuthbertLab.github.io/music21j/src/music21'}\n",
       "                });\n",
       "                require(['music21'], function() {\n",
       "                               mp = new music21.miditools.MidiPlayer();\n",
       "                               mp.addPlayer('#midiPlayerDiv344');\n",
       "                               mp.base64Load('data:audio/midi;base64,TVRoZAAAAAYAAQACBABNVHJrAAAAFAD/UQMHoSAA/1gEBAIYCIgA/y8ATVRyawAAAFIA/wMAAOAAQIgAkEJaAJAvWqAAgEIAAIAvAACQPFoAkDtaoACAPAAAgDsAAJA/WgCQI1qgAIA/AACAIwAAkEVaAJBHWqAAgEUAAIBHAIgA/y8A');\n",
       "                        });\n",
       "                </script>"
      ],
      "text/plain": [
       "<IPython.core.display.HTML object>"
      ]
     },
     "metadata": {},
     "output_type": "display_data"
    }
   ],
   "source": [
    "verticet6_1 = chord.Chord([ver[0],'B3'],type = 'whole')\n",
    "verticet6_2 = chord.Chord([ver[1],'B1'],type = 'whole')\n",
    "verticet6_3 = chord.Chord([ver[2],'B2'],type = 'whole')\n",
    "verticet6_4 = chord.Chord([ver[3],'B4'],type = 'whole')\n",
    "\n",
    "El_6 = stream.Stream()\n",
    "El_6.append(verticet6_3)\n",
    "El_6.append(verticet6_1)\n",
    "El_6.append(verticet6_2)\n",
    "El_6.append(verticet6_4)\n",
    "\n",
    "El_6.show('text')\n",
    "\n",
    "El_6.show('midi')"
   ]
  },
  {
   "cell_type": "markdown",
   "id": "b88decab",
   "metadata": {},
   "source": [
    "### Septimo elemento (143)"
   ]
  },
  {
   "cell_type": "code",
   "execution_count": 43,
   "id": "aa96473a",
   "metadata": {},
   "outputs": [
    {
     "name": "stdout",
     "output_type": "stream",
     "text": [
      "{0.0} <music21.chord.Chord A B3>\n",
      "{4.0} <music21.chord.Chord D# B2>\n",
      "{8.0} <music21.chord.Chord C B4>\n",
      "{12.0} <music21.chord.Chord F# B1>\n"
     ]
    },
    {
     "data": {
      "text/html": [
       "\n",
       "                <div id='midiPlayerDiv373'></div>\n",
       "                <link rel=\"stylesheet\" href=\"//cuthbertLab.github.io/music21j/css/m21.css\"\n",
       "                    type=\"text/css\" />\n",
       "                \n",
       "                <script>\n",
       "                require.config({\n",
       "                    paths: {'music21': '//cuthbertLab.github.io/music21j/src/music21'}\n",
       "                });\n",
       "                require(['music21'], function() {\n",
       "                               mp = new music21.miditools.MidiPlayer();\n",
       "                               mp.addPlayer('#midiPlayerDiv373');\n",
       "                               mp.base64Load('data:audio/midi;base64,TVRoZAAAAAYAAQACBABNVHJrAAAAFAD/UQMHoSAA/1gEBAIYCIgA/y8ATVRyawAAAFIA/wMAAOAAQIgAkEVaAJA7WqAAgEUAAIA7AACQP1oAkC9aoACAPwAAgC8AAJA8WgCQR1qgAIA8AACARwAAkEJaAJAjWqAAgEIAAIAjAIgA/y8A');\n",
       "                        });\n",
       "                </script>"
      ],
      "text/plain": [
       "<IPython.core.display.HTML object>"
      ]
     },
     "metadata": {},
     "output_type": "display_data"
    }
   ],
   "source": [
    "verticet7_1 = chord.Chord([ver[0],'B4'],type = 'whole')\n",
    "verticet7_2 = chord.Chord([ver[1],'B2'],type = 'whole')\n",
    "verticet7_3 = chord.Chord([ver[2],'B1'],type = 'whole')\n",
    "verticet7_4 = chord.Chord([ver[3],'B3'],type = 'whole')\n",
    "\n",
    "El_7 = stream.Stream()\n",
    "El_7.append(verticet7_4)\n",
    "El_7.append(verticet7_2)\n",
    "El_7.append(verticet7_1)\n",
    "El_7.append(verticet7_3)\n",
    "\n",
    "El_7.show('text')\n",
    "\n",
    "El_7.show('midi')"
   ]
  },
  {
   "cell_type": "markdown",
   "id": "7ab9f8a6",
   "metadata": {},
   "source": [
    "### Octavo elemento (124)"
   ]
  },
  {
   "cell_type": "code",
   "execution_count": 44,
   "id": "73eb5847",
   "metadata": {},
   "outputs": [
    {
     "name": "stdout",
     "output_type": "stream",
     "text": [
      "{0.0} <music21.chord.Chord D# B4>\n",
      "{4.0} <music21.chord.Chord A B1>\n",
      "{8.0} <music21.chord.Chord F# B3>\n",
      "{12.0} <music21.chord.Chord C B2>\n"
     ]
    },
    {
     "data": {
      "text/html": [
       "\n",
       "                <div id='midiPlayerDiv402'></div>\n",
       "                <link rel=\"stylesheet\" href=\"//cuthbertLab.github.io/music21j/css/m21.css\"\n",
       "                    type=\"text/css\" />\n",
       "                \n",
       "                <script>\n",
       "                require.config({\n",
       "                    paths: {'music21': '//cuthbertLab.github.io/music21j/src/music21'}\n",
       "                });\n",
       "                require(['music21'], function() {\n",
       "                               mp = new music21.miditools.MidiPlayer();\n",
       "                               mp.addPlayer('#midiPlayerDiv402');\n",
       "                               mp.base64Load('data:audio/midi;base64,TVRoZAAAAAYAAQACBABNVHJrAAAAFAD/UQMHoSAA/1gEBAIYCIgA/y8ATVRyawAAAFIA/wMAAOAAQIgAkD9aAJBHWqAAgD8AAIBHAACQRVoAkCNaoACARQAAgCMAAJBCWgCQO1qgAIBCAACAOwAAkDxaAJAvWqAAgDwAAIAvAIgA/y8A');\n",
       "                        });\n",
       "                </script>"
      ],
      "text/plain": [
       "<IPython.core.display.HTML object>"
      ]
     },
     "metadata": {},
     "output_type": "display_data"
    }
   ],
   "source": [
    "verticet8_1 = chord.Chord([ver[0],'B2'],type = 'whole')\n",
    "verticet8_2 = chord.Chord([ver[1],'B4'],type = 'whole')\n",
    "verticet8_3 = chord.Chord([ver[2],'B3'],type = 'whole')\n",
    "verticet8_4 = chord.Chord([ver[3],'B1'],type = 'whole')\n",
    "\n",
    "El_8 = stream.Stream()\n",
    "El_8.append(verticet8_2)\n",
    "El_8.append(verticet8_4)\n",
    "El_8.append(verticet8_3)\n",
    "El_8.append(verticet8_1)\n",
    "\n",
    "El_8.show('text')\n",
    "\n",
    "El_8.show('midi')"
   ]
  },
  {
   "cell_type": "markdown",
   "id": "e7584924",
   "metadata": {},
   "source": [
    "### Noveno elemento (243)"
   ]
  },
  {
   "cell_type": "code",
   "execution_count": 45,
   "id": "700f5128",
   "metadata": {},
   "outputs": [
    {
     "name": "stdout",
     "output_type": "stream",
     "text": [
      "{0.0} <music21.chord.Chord C B1>\n",
      "{4.0} <music21.chord.Chord A B3>\n",
      "{8.0} <music21.chord.Chord D# B4>\n",
      "{12.0} <music21.chord.Chord F# B2>\n"
     ]
    },
    {
     "data": {
      "text/html": [
       "\n",
       "                <div id='midiPlayerDiv431'></div>\n",
       "                <link rel=\"stylesheet\" href=\"//cuthbertLab.github.io/music21j/css/m21.css\"\n",
       "                    type=\"text/css\" />\n",
       "                \n",
       "                <script>\n",
       "                require.config({\n",
       "                    paths: {'music21': '//cuthbertLab.github.io/music21j/src/music21'}\n",
       "                });\n",
       "                require(['music21'], function() {\n",
       "                               mp = new music21.miditools.MidiPlayer();\n",
       "                               mp.addPlayer('#midiPlayerDiv431');\n",
       "                               mp.base64Load('data:audio/midi;base64,TVRoZAAAAAYAAQACBABNVHJrAAAAFAD/UQMHoSAA/1gEBAIYCIgA/y8ATVRyawAAAFIA/wMAAOAAQIgAkDxaAJAjWqAAgDwAAIAjAACQRVoAkDtaoACARQAAgDsAAJA/WgCQR1qgAIA/AACARwAAkEJaAJAvWqAAgEIAAIAvAIgA/y8A');\n",
       "                        });\n",
       "                </script>"
      ],
      "text/plain": [
       "<IPython.core.display.HTML object>"
      ]
     },
     "metadata": {},
     "output_type": "display_data"
    }
   ],
   "source": [
    "verticet9_1 = chord.Chord([ver[0],'B1'],type = 'whole')\n",
    "verticet9_2 = chord.Chord([ver[1],'B4'],type = 'whole')\n",
    "verticet9_3 = chord.Chord([ver[2],'B2'],type = 'whole')\n",
    "verticet9_4 = chord.Chord([ver[3],'B3'],type = 'whole')\n",
    "\n",
    "El_9 = stream.Stream()\n",
    "El_9.append(verticet9_1)\n",
    "El_9.append(verticet9_4)\n",
    "El_9.append(verticet9_2)\n",
    "El_9.append(verticet9_3)\n",
    "\n",
    "El_9.show('text')\n",
    "\n",
    "El_9.show('midi')"
   ]
  },
  {
   "cell_type": "markdown",
   "id": "bb2cfa62",
   "metadata": {},
   "source": [
    "### Decimo elemento (134)"
   ]
  },
  {
   "cell_type": "code",
   "execution_count": 46,
   "id": "ff066b9c",
   "metadata": {},
   "outputs": [
    {
     "name": "stdout",
     "output_type": "stream",
     "text": [
      "{0.0} <music21.chord.Chord F# B4>\n",
      "{4.0} <music21.chord.Chord D# B2>\n",
      "{8.0} <music21.chord.Chord A B1>\n",
      "{12.0} <music21.chord.Chord C B3>\n"
     ]
    },
    {
     "data": {
      "text/html": [
       "\n",
       "                <div id='midiPlayerDiv460'></div>\n",
       "                <link rel=\"stylesheet\" href=\"//cuthbertLab.github.io/music21j/css/m21.css\"\n",
       "                    type=\"text/css\" />\n",
       "                \n",
       "                <script>\n",
       "                require.config({\n",
       "                    paths: {'music21': '//cuthbertLab.github.io/music21j/src/music21'}\n",
       "                });\n",
       "                require(['music21'], function() {\n",
       "                               mp = new music21.miditools.MidiPlayer();\n",
       "                               mp.addPlayer('#midiPlayerDiv460');\n",
       "                               mp.base64Load('data:audio/midi;base64,TVRoZAAAAAYAAQACBABNVHJrAAAAFAD/UQMHoSAA/1gEBAIYCIgA/y8ATVRyawAAAFIA/wMAAOAAQIgAkEJaAJBHWqAAgEIAAIBHAACQP1oAkC9aoACAPwAAgC8AAJBFWgCQI1qgAIBFAACAIwAAkDxaAJA7WqAAgDwAAIA7AIgA/y8A');\n",
       "                        });\n",
       "                </script>"
      ],
      "text/plain": [
       "<IPython.core.display.HTML object>"
      ]
     },
     "metadata": {},
     "output_type": "display_data"
    }
   ],
   "source": [
    "verticet10_1 = chord.Chord([ver[0],'B3'],type = 'whole')\n",
    "verticet10_2 = chord.Chord([ver[1],'B2'],type = 'whole')\n",
    "verticet10_3 = chord.Chord([ver[2],'B4'],type = 'whole')\n",
    "verticet10_4 = chord.Chord([ver[3],'B1'],type = 'whole')\n",
    "\n",
    "El_10 = stream.Stream()\n",
    "El_10.append(verticet10_3)\n",
    "El_10.append(verticet10_2)\n",
    "El_10.append(verticet10_4)\n",
    "El_10.append(verticet10_1)\n",
    "\n",
    "El_10.show('text')\n",
    "\n",
    "El_10.show('midi')"
   ]
  },
  {
   "cell_type": "markdown",
   "id": "cb20ecee",
   "metadata": {},
   "source": [
    "### Decimoprimer elemento (142)"
   ]
  },
  {
   "cell_type": "code",
   "execution_count": 47,
   "id": "ab7b9b0e",
   "metadata": {},
   "outputs": [
    {
     "name": "stdout",
     "output_type": "stream",
     "text": [
      "{0.0} <music21.chord.Chord A B2>\n",
      "{4.0} <music21.chord.Chord C B4>\n",
      "{8.0} <music21.chord.Chord F# B3>\n",
      "{12.0} <music21.chord.Chord D# B1>\n"
     ]
    },
    {
     "data": {
      "text/html": [
       "\n",
       "                <div id='midiPlayerDiv489'></div>\n",
       "                <link rel=\"stylesheet\" href=\"//cuthbertLab.github.io/music21j/css/m21.css\"\n",
       "                    type=\"text/css\" />\n",
       "                \n",
       "                <script>\n",
       "                require.config({\n",
       "                    paths: {'music21': '//cuthbertLab.github.io/music21j/src/music21'}\n",
       "                });\n",
       "                require(['music21'], function() {\n",
       "                               mp = new music21.miditools.MidiPlayer();\n",
       "                               mp.addPlayer('#midiPlayerDiv489');\n",
       "                               mp.base64Load('data:audio/midi;base64,TVRoZAAAAAYAAQACBABNVHJrAAAAFAD/UQMHoSAA/1gEBAIYCIgA/y8ATVRyawAAAFIA/wMAAOAAQIgAkEVaAJAvWqAAgEUAAIAvAACQPFoAkEdaoACAPAAAgEcAAJBCWgCQO1qgAIBCAACAOwAAkD9aAJAjWqAAgD8AAIAjAIgA/y8A');\n",
       "                        });\n",
       "                </script>"
      ],
      "text/plain": [
       "<IPython.core.display.HTML object>"
      ]
     },
     "metadata": {},
     "output_type": "display_data"
    }
   ],
   "source": [
    "verticet11_1 = chord.Chord([ver[0],'B4'],type = 'whole')\n",
    "verticet11_2 = chord.Chord([ver[1],'B1'],type = 'whole')\n",
    "verticet11_3 = chord.Chord([ver[2],'B3'],type = 'whole')\n",
    "verticet11_4 = chord.Chord([ver[3],'B2'],type = 'whole')\n",
    "\n",
    "El_11 = stream.Stream()\n",
    "El_11.append(verticet11_4)\n",
    "El_11.append(verticet11_1)\n",
    "El_11.append(verticet11_3)\n",
    "El_11.append(verticet11_2)\n",
    "\n",
    "El_11.show('text')\n",
    "\n",
    "El_11.show('midi')"
   ]
  },
  {
   "cell_type": "markdown",
   "id": "53510c40",
   "metadata": {},
   "source": [
    "### Doceavo elemento (123)"
   ]
  },
  {
   "cell_type": "code",
   "execution_count": 48,
   "id": "cec1adca",
   "metadata": {},
   "outputs": [
    {
     "name": "stdout",
     "output_type": "stream",
     "text": [
      "{0.0} <music21.chord.Chord D# B3>\n",
      "{4.0} <music21.chord.Chord F# B1>\n",
      "{8.0} <music21.chord.Chord C B2>\n",
      "{12.0} <music21.chord.Chord A B4>\n"
     ]
    },
    {
     "data": {
      "text/html": [
       "\n",
       "                <div id='midiPlayerDiv518'></div>\n",
       "                <link rel=\"stylesheet\" href=\"//cuthbertLab.github.io/music21j/css/m21.css\"\n",
       "                    type=\"text/css\" />\n",
       "                \n",
       "                <script>\n",
       "                require.config({\n",
       "                    paths: {'music21': '//cuthbertLab.github.io/music21j/src/music21'}\n",
       "                });\n",
       "                require(['music21'], function() {\n",
       "                               mp = new music21.miditools.MidiPlayer();\n",
       "                               mp.addPlayer('#midiPlayerDiv518');\n",
       "                               mp.base64Load('data:audio/midi;base64,TVRoZAAAAAYAAQACBABNVHJrAAAAFAD/UQMHoSAA/1gEBAIYCIgA/y8ATVRyawAAAFIA/wMAAOAAQIgAkD9aAJA7WqAAgD8AAIA7AACQQloAkCNaoACAQgAAgCMAAJA8WgCQL1qgAIA8AACALwAAkEVaAJBHWqAAgEUAAIBHAIgA/y8A');\n",
       "                        });\n",
       "                </script>"
      ],
      "text/plain": [
       "<IPython.core.display.HTML object>"
      ]
     },
     "metadata": {},
     "output_type": "display_data"
    }
   ],
   "source": [
    "verticet12_1 = chord.Chord([ver[0],'B2'],type = 'whole')\n",
    "verticet12_2 = chord.Chord([ver[1],'B3'],type = 'whole')\n",
    "verticet12_3 = chord.Chord([ver[2],'B1'],type = 'whole')\n",
    "verticet12_4 = chord.Chord([ver[3],'B4'],type = 'whole')\n",
    "\n",
    "El_12 = stream.Stream()\n",
    "El_12.append(verticet12_2)\n",
    "El_12.append(verticet12_3)\n",
    "El_12.append(verticet12_1)\n",
    "El_12.append(verticet12_4)\n",
    "\n",
    "El_12.show('text')\n",
    "\n",
    "El_12.show('midi')"
   ]
  },
  {
   "cell_type": "markdown",
   "id": "c5e6c39c",
   "metadata": {},
   "source": [
    "### Treceavo elemento (34)"
   ]
  },
  {
   "cell_type": "code",
   "execution_count": 49,
   "id": "0ffcdaf9",
   "metadata": {},
   "outputs": [
    {
     "name": "stdout",
     "output_type": "stream",
     "text": [
      "{0.0} <music21.chord.Chord C B1>\n",
      "{4.0} <music21.chord.Chord D# B2>\n",
      "{8.0} <music21.chord.Chord A B3>\n",
      "{12.0} <music21.chord.Chord F# B4>\n"
     ]
    },
    {
     "data": {
      "text/html": [
       "\n",
       "                <div id='midiPlayerDiv547'></div>\n",
       "                <link rel=\"stylesheet\" href=\"//cuthbertLab.github.io/music21j/css/m21.css\"\n",
       "                    type=\"text/css\" />\n",
       "                \n",
       "                <script>\n",
       "                require.config({\n",
       "                    paths: {'music21': '//cuthbertLab.github.io/music21j/src/music21'}\n",
       "                });\n",
       "                require(['music21'], function() {\n",
       "                               mp = new music21.miditools.MidiPlayer();\n",
       "                               mp.addPlayer('#midiPlayerDiv547');\n",
       "                               mp.base64Load('data:audio/midi;base64,TVRoZAAAAAYAAQACBABNVHJrAAAAFAD/UQMHoSAA/1gEBAIYCIgA/y8ATVRyawAAAFIA/wMAAOAAQIgAkDxaAJAjWqAAgDwAAIAjAACQP1oAkC9aoACAPwAAgC8AAJBFWgCQO1qgAIBFAACAOwAAkEJaAJBHWqAAgEIAAIBHAIgA/y8A');\n",
       "                        });\n",
       "                </script>"
      ],
      "text/plain": [
       "<IPython.core.display.HTML object>"
      ]
     },
     "metadata": {},
     "output_type": "display_data"
    }
   ],
   "source": [
    "verticet13_1 = chord.Chord([ver[0],'B1'],type = 'whole')\n",
    "verticet13_2 = chord.Chord([ver[1],'B2'],type = 'whole')\n",
    "verticet13_3 = chord.Chord([ver[2],'B4'],type = 'whole')\n",
    "verticet13_4 = chord.Chord([ver[3],'B3'],type = 'whole')\n",
    "\n",
    "El_13 = stream.Stream()\n",
    "El_13.append(verticet13_1)\n",
    "El_13.append(verticet13_2)\n",
    "El_13.append(verticet13_4)\n",
    "El_13.append(verticet13_3)\n",
    "\n",
    "El_13.show('text')\n",
    "\n",
    "El_13.show('midi')"
   ]
  },
  {
   "cell_type": "markdown",
   "id": "bf1b7a63",
   "metadata": {},
   "source": [
    "### Catorceavo elemento (1324)"
   ]
  },
  {
   "cell_type": "code",
   "execution_count": 50,
   "id": "d6f81e14",
   "metadata": {},
   "outputs": [
    {
     "name": "stdout",
     "output_type": "stream",
     "text": [
      "{0.0} <music21.chord.Chord F# B3>\n",
      "{4.0} <music21.chord.Chord A B1>\n",
      "{8.0} <music21.chord.Chord D# B4>\n",
      "{12.0} <music21.chord.Chord C B3>\n"
     ]
    },
    {
     "data": {
      "text/html": [
       "\n",
       "                <div id='midiPlayerDiv576'></div>\n",
       "                <link rel=\"stylesheet\" href=\"//cuthbertLab.github.io/music21j/css/m21.css\"\n",
       "                    type=\"text/css\" />\n",
       "                \n",
       "                <script>\n",
       "                require.config({\n",
       "                    paths: {'music21': '//cuthbertLab.github.io/music21j/src/music21'}\n",
       "                });\n",
       "                require(['music21'], function() {\n",
       "                               mp = new music21.miditools.MidiPlayer();\n",
       "                               mp.addPlayer('#midiPlayerDiv576');\n",
       "                               mp.base64Load('data:audio/midi;base64,TVRoZAAAAAYAAQACBABNVHJrAAAAFAD/UQMHoSAA/1gEBAIYCIgA/y8ATVRyawAAAFIA/wMAAOAAQIgAkEJaAJA7WqAAgEIAAIA7AACQRVoAkCNaoACARQAAgCMAAJA/WgCQR1qgAIA/AACARwAAkDxaAJA7WqAAgDwAAIA7AIgA/y8A');\n",
       "                        });\n",
       "                </script>"
      ],
      "text/plain": [
       "<IPython.core.display.HTML object>"
      ]
     },
     "metadata": {},
     "output_type": "display_data"
    }
   ],
   "source": [
    "verticet14_1 = chord.Chord([ver[0],'B3'],type = 'whole')\n",
    "verticet14_2 = chord.Chord([ver[1],'B4'],type = 'whole')\n",
    "verticet14_3 = chord.Chord([ver[2],'B3'],type = 'whole')\n",
    "verticet14_4 = chord.Chord([ver[3],'B1'],type = 'whole')\n",
    "\n",
    "El_14 = stream.Stream()\n",
    "El_14.append(verticet14_3)\n",
    "El_14.append(verticet14_4)\n",
    "El_14.append(verticet14_2)\n",
    "El_14.append(verticet14_1)\n",
    "\n",
    "El_14.show('text')\n",
    "\n",
    "El_14.show('midi')"
   ]
  },
  {
   "cell_type": "markdown",
   "id": "ff0d413b",
   "metadata": {},
   "source": [
    "### Quinceavo elemento (1423)"
   ]
  },
  {
   "cell_type": "code",
   "execution_count": 51,
   "id": "4fb1f6df",
   "metadata": {},
   "outputs": [
    {
     "name": "stdout",
     "output_type": "stream",
     "text": [
      "{0.0} <music21.chord.Chord A B2>\n",
      "{4.0} <music21.chord.Chord F# B1>\n",
      "{8.0} <music21.chord.Chord C B4>\n",
      "{12.0} <music21.chord.Chord D# B3>\n"
     ]
    },
    {
     "data": {
      "text/html": [
       "\n",
       "                <div id='midiPlayerDiv605'></div>\n",
       "                <link rel=\"stylesheet\" href=\"//cuthbertLab.github.io/music21j/css/m21.css\"\n",
       "                    type=\"text/css\" />\n",
       "                \n",
       "                <script>\n",
       "                require.config({\n",
       "                    paths: {'music21': '//cuthbertLab.github.io/music21j/src/music21'}\n",
       "                });\n",
       "                require(['music21'], function() {\n",
       "                               mp = new music21.miditools.MidiPlayer();\n",
       "                               mp.addPlayer('#midiPlayerDiv605');\n",
       "                               mp.base64Load('data:audio/midi;base64,TVRoZAAAAAYAAQACBABNVHJrAAAAFAD/UQMHoSAA/1gEBAIYCIgA/y8ATVRyawAAAFIA/wMAAOAAQIgAkEVaAJAvWqAAgEUAAIAvAACQQloAkCNaoACAQgAAgCMAAJA8WgCQR1qgAIA8AACARwAAkD9aAJA7WqAAgD8AAIA7AIgA/y8A');\n",
       "                        });\n",
       "                </script>"
      ],
      "text/plain": [
       "<IPython.core.display.HTML object>"
      ]
     },
     "metadata": {},
     "output_type": "display_data"
    }
   ],
   "source": [
    "verticet15_1 = chord.Chord([ver[0],'B4'],type = 'whole')\n",
    "verticet15_2 = chord.Chord([ver[1],'B3'],type = 'whole')\n",
    "verticet15_3 = chord.Chord([ver[2],'B1'],type = 'whole')\n",
    "verticet15_4 = chord.Chord([ver[3],'B2'],type = 'whole')\n",
    "\n",
    "El_15 = stream.Stream()\n",
    "El_15.append(verticet15_4)\n",
    "El_15.append(verticet15_3)\n",
    "El_15.append(verticet15_1)\n",
    "El_15.append(verticet15_2)\n",
    "\n",
    "El_15.show('text')\n",
    "\n",
    "El_15.show('midi')"
   ]
  },
  {
   "cell_type": "markdown",
   "id": "7ab28c10",
   "metadata": {},
   "source": [
    "### Dieciseisavo elemento (12)"
   ]
  },
  {
   "cell_type": "code",
   "execution_count": 52,
   "id": "26e97f6a",
   "metadata": {},
   "outputs": [
    {
     "name": "stdout",
     "output_type": "stream",
     "text": [
      "{0.0} <music21.chord.Chord D# B1>\n",
      "{4.0} <music21.chord.Chord C B2>\n",
      "{8.0} <music21.chord.Chord F# B3>\n",
      "{12.0} <music21.chord.Chord A B4>\n"
     ]
    },
    {
     "data": {
      "text/html": [
       "\n",
       "                <div id='midiPlayerDiv634'></div>\n",
       "                <link rel=\"stylesheet\" href=\"//cuthbertLab.github.io/music21j/css/m21.css\"\n",
       "                    type=\"text/css\" />\n",
       "                \n",
       "                <script>\n",
       "                require.config({\n",
       "                    paths: {'music21': '//cuthbertLab.github.io/music21j/src/music21'}\n",
       "                });\n",
       "                require(['music21'], function() {\n",
       "                               mp = new music21.miditools.MidiPlayer();\n",
       "                               mp.addPlayer('#midiPlayerDiv634');\n",
       "                               mp.base64Load('data:audio/midi;base64,TVRoZAAAAAYAAQACBABNVHJrAAAAFAD/UQMHoSAA/1gEBAIYCIgA/y8ATVRyawAAAFIA/wMAAOAAQIgAkD9aAJAjWqAAgD8AAIAjAACQPFoAkC9aoACAPAAAgC8AAJBCWgCQO1qgAIBCAACAOwAAkEVaAJBHWqAAgEUAAIBHAIgA/y8A');\n",
       "                        });\n",
       "                </script>"
      ],
      "text/plain": [
       "<IPython.core.display.HTML object>"
      ]
     },
     "metadata": {},
     "output_type": "display_data"
    }
   ],
   "source": [
    "verticet16_1 = chord.Chord([ver[0],'B2'],type = 'whole')\n",
    "verticet16_2 = chord.Chord([ver[1],'B1'],type = 'whole')\n",
    "verticet16_3 = chord.Chord([ver[2],'B3'],type = 'whole')\n",
    "verticet16_4 = chord.Chord([ver[3],'B4'],type = 'whole')\n",
    "\n",
    "El_16 = stream.Stream()\n",
    "El_16.append(verticet16_2)\n",
    "El_16.append(verticet16_1)\n",
    "El_16.append(verticet16_3)\n",
    "El_16.append(verticet16_4)\n",
    "\n",
    "El_16.show('text')\n",
    "\n",
    "El_16.show('midi')"
   ]
  },
  {
   "cell_type": "markdown",
   "id": "5f4b3b27",
   "metadata": {},
   "source": [
    "### Diecisieteavo elemento (23)"
   ]
  },
  {
   "cell_type": "code",
   "execution_count": 53,
   "id": "be31f715",
   "metadata": {},
   "outputs": [
    {
     "name": "stdout",
     "output_type": "stream",
     "text": [
      "{0.0} <music21.chord.Chord C B1>\n",
      "{4.0} <music21.chord.Chord F# B2>\n",
      "{8.0} <music21.chord.Chord D# B3>\n",
      "{12.0} <music21.chord.Chord A B4>\n"
     ]
    },
    {
     "data": {
      "text/html": [
       "\n",
       "                <div id='midiPlayerDiv663'></div>\n",
       "                <link rel=\"stylesheet\" href=\"//cuthbertLab.github.io/music21j/css/m21.css\"\n",
       "                    type=\"text/css\" />\n",
       "                \n",
       "                <script>\n",
       "                require.config({\n",
       "                    paths: {'music21': '//cuthbertLab.github.io/music21j/src/music21'}\n",
       "                });\n",
       "                require(['music21'], function() {\n",
       "                               mp = new music21.miditools.MidiPlayer();\n",
       "                               mp.addPlayer('#midiPlayerDiv663');\n",
       "                               mp.base64Load('data:audio/midi;base64,TVRoZAAAAAYAAQACBABNVHJrAAAAFAD/UQMHoSAA/1gEBAIYCIgA/y8ATVRyawAAAFIA/wMAAOAAQIgAkDxaAJAjWqAAgDwAAIAjAACQQloAkC9aoACAQgAAgC8AAJA/WgCQO1qgAIA/AACAOwAAkEVaAJBHWqAAgEUAAIBHAIgA/y8A');\n",
       "                        });\n",
       "                </script>"
      ],
      "text/plain": [
       "<IPython.core.display.HTML object>"
      ]
     },
     "metadata": {},
     "output_type": "display_data"
    }
   ],
   "source": [
    "verticet17_1 = chord.Chord([ver[0],'B1'],type = 'whole')\n",
    "verticet17_2 = chord.Chord([ver[1],'B3'],type = 'whole')\n",
    "verticet17_3 = chord.Chord([ver[2],'B2'],type = 'whole')\n",
    "verticet17_4 = chord.Chord([ver[3],'B4'],type = 'whole')\n",
    "\n",
    "El_17 = stream.Stream()\n",
    "El_17.append(verticet17_1)\n",
    "El_17.append(verticet17_3)\n",
    "El_17.append(verticet17_2)\n",
    "El_17.append(verticet17_4)\n",
    "\n",
    "El_17.show('text')\n",
    "\n",
    "El_17.show('midi')"
   ]
  },
  {
   "cell_type": "markdown",
   "id": "414d7c91",
   "metadata": {},
   "source": [
    "### Dieciochoavo elemento (1342)"
   ]
  },
  {
   "cell_type": "code",
   "execution_count": 54,
   "id": "e522d95d",
   "metadata": {},
   "outputs": [
    {
     "name": "stdout",
     "output_type": "stream",
     "text": [
      "{0.0} <music21.chord.Chord F# B4>\n",
      "{4.0} <music21.chord.Chord C B3>\n",
      "{8.0} <music21.chord.Chord A B2>\n",
      "{12.0} <music21.chord.Chord D# B1>\n"
     ]
    },
    {
     "data": {
      "text/html": [
       "\n",
       "                <div id='midiPlayerDiv692'></div>\n",
       "                <link rel=\"stylesheet\" href=\"//cuthbertLab.github.io/music21j/css/m21.css\"\n",
       "                    type=\"text/css\" />\n",
       "                \n",
       "                <script>\n",
       "                require.config({\n",
       "                    paths: {'music21': '//cuthbertLab.github.io/music21j/src/music21'}\n",
       "                });\n",
       "                require(['music21'], function() {\n",
       "                               mp = new music21.miditools.MidiPlayer();\n",
       "                               mp.addPlayer('#midiPlayerDiv692');\n",
       "                               mp.base64Load('data:audio/midi;base64,TVRoZAAAAAYAAQACBABNVHJrAAAAFAD/UQMHoSAA/1gEBAIYCIgA/y8ATVRyawAAAFIA/wMAAOAAQIgAkEJaAJBHWqAAgEIAAIBHAACQPFoAkDtaoACAPAAAgDsAAJBFWgCQL1qgAIBFAACALwAAkD9aAJAjWqAAgD8AAIAjAIgA/y8A');\n",
       "                        });\n",
       "                </script>"
      ],
      "text/plain": [
       "<IPython.core.display.HTML object>"
      ]
     },
     "metadata": {},
     "output_type": "display_data"
    }
   ],
   "source": [
    "verticet18_1 = chord.Chord([ver[0],'B3'],type = 'whole')\n",
    "verticet18_2 = chord.Chord([ver[1],'B1'],type = 'whole')\n",
    "verticet18_3 = chord.Chord([ver[2],'B4'],type = 'whole')\n",
    "verticet18_4 = chord.Chord([ver[3],'B2'],type = 'whole')\n",
    "\n",
    "El_18 = stream.Stream()\n",
    "El_18.append(verticet18_3)\n",
    "El_18.append(verticet18_1)\n",
    "El_18.append(verticet18_4)\n",
    "El_18.append(verticet18_2)\n",
    "\n",
    "El_18.show('text')\n",
    "\n",
    "El_18.show('midi')"
   ]
  },
  {
   "cell_type": "markdown",
   "id": "8af4f028",
   "metadata": {},
   "source": [
    "### Diecinueveavo elemento (14)"
   ]
  },
  {
   "cell_type": "code",
   "execution_count": 55,
   "id": "7695442b",
   "metadata": {},
   "outputs": [
    {
     "name": "stdout",
     "output_type": "stream",
     "text": [
      "{0.0} <music21.chord.Chord A B1>\n",
      "{4.0} <music21.chord.Chord D# B2>\n",
      "{8.0} <music21.chord.Chord F# B3>\n",
      "{12.0} <music21.chord.Chord C B4>\n"
     ]
    },
    {
     "data": {
      "text/html": [
       "\n",
       "                <div id='midiPlayerDiv721'></div>\n",
       "                <link rel=\"stylesheet\" href=\"//cuthbertLab.github.io/music21j/css/m21.css\"\n",
       "                    type=\"text/css\" />\n",
       "                \n",
       "                <script>\n",
       "                require.config({\n",
       "                    paths: {'music21': '//cuthbertLab.github.io/music21j/src/music21'}\n",
       "                });\n",
       "                require(['music21'], function() {\n",
       "                               mp = new music21.miditools.MidiPlayer();\n",
       "                               mp.addPlayer('#midiPlayerDiv721');\n",
       "                               mp.base64Load('data:audio/midi;base64,TVRoZAAAAAYAAQACBABNVHJrAAAAFAD/UQMHoSAA/1gEBAIYCIgA/y8ATVRyawAAAFIA/wMAAOAAQIgAkEVaAJAjWqAAgEUAAIAjAACQP1oAkC9aoACAPwAAgC8AAJBCWgCQO1qgAIBCAACAOwAAkDxaAJBHWqAAgDwAAIBHAIgA/y8A');\n",
       "                        });\n",
       "                </script>"
      ],
      "text/plain": [
       "<IPython.core.display.HTML object>"
      ]
     },
     "metadata": {},
     "output_type": "display_data"
    }
   ],
   "source": [
    "verticet19_1 = chord.Chord([ver[0],'B4'],type = 'whole')\n",
    "verticet19_2 = chord.Chord([ver[1],'B2'],type = 'whole')\n",
    "verticet19_3 = chord.Chord([ver[2],'B3'],type = 'whole')\n",
    "verticet19_4 = chord.Chord([ver[3],'B1'],type = 'whole')\n",
    "\n",
    "El_19 = stream.Stream()\n",
    "El_19.append(verticet19_4)\n",
    "El_19.append(verticet19_2)\n",
    "El_19.append(verticet19_3)\n",
    "El_19.append(verticet19_1)\n",
    "\n",
    "El_19.show('text')\n",
    "\n",
    "El_19.show('midi')"
   ]
  },
  {
   "cell_type": "markdown",
   "id": "11afd5f0",
   "metadata": {},
   "source": [
    "### Veinteavo elemento (1243)"
   ]
  },
  {
   "cell_type": "code",
   "execution_count": 56,
   "id": "fd92081f",
   "metadata": {},
   "outputs": [
    {
     "name": "stdout",
     "output_type": "stream",
     "text": [
      "{0.0} <music21.chord.Chord D# B4>\n",
      "{4.0} <music21.chord.Chord A B3>\n",
      "{8.0} <music21.chord.Chord C B2>\n",
      "{12.0} <music21.chord.Chord F# B1>\n"
     ]
    },
    {
     "data": {
      "text/html": [
       "\n",
       "                <div id='midiPlayerDiv750'></div>\n",
       "                <link rel=\"stylesheet\" href=\"//cuthbertLab.github.io/music21j/css/m21.css\"\n",
       "                    type=\"text/css\" />\n",
       "                \n",
       "                <script>\n",
       "                require.config({\n",
       "                    paths: {'music21': '//cuthbertLab.github.io/music21j/src/music21'}\n",
       "                });\n",
       "                require(['music21'], function() {\n",
       "                               mp = new music21.miditools.MidiPlayer();\n",
       "                               mp.addPlayer('#midiPlayerDiv750');\n",
       "                               mp.base64Load('data:audio/midi;base64,TVRoZAAAAAYAAQACBABNVHJrAAAAFAD/UQMHoSAA/1gEBAIYCIgA/y8ATVRyawAAAFIA/wMAAOAAQIgAkD9aAJBHWqAAgD8AAIBHAACQRVoAkDtaoACARQAAgDsAAJA8WgCQL1qgAIA8AACALwAAkEJaAJAjWqAAgEIAAIAjAIgA/y8A');\n",
       "                        });\n",
       "                </script>"
      ],
      "text/plain": [
       "<IPython.core.display.HTML object>"
      ]
     },
     "metadata": {},
     "output_type": "display_data"
    }
   ],
   "source": [
    "verticet20_1 = chord.Chord([ver[0],'B2'],type = 'whole')\n",
    "verticet20_2 = chord.Chord([ver[1],'B4'],type = 'whole')\n",
    "verticet20_3 = chord.Chord([ver[2],'B1'],type = 'whole')\n",
    "verticet20_4 = chord.Chord([ver[3],'B3'],type = 'whole')\n",
    "\n",
    "El_20 = stream.Stream()\n",
    "El_20.append(verticet20_2)\n",
    "El_20.append(verticet20_4)\n",
    "El_20.append(verticet20_1)\n",
    "El_20.append(verticet20_3)\n",
    "\n",
    "El_20.show('text')\n",
    "\n",
    "El_20.show('midi')"
   ]
  },
  {
   "cell_type": "markdown",
   "id": "7c475ed5",
   "metadata": {},
   "source": [
    "### Veintiunavo elemento (24)"
   ]
  },
  {
   "cell_type": "code",
   "execution_count": 57,
   "id": "4334e117",
   "metadata": {},
   "outputs": [
    {
     "name": "stdout",
     "output_type": "stream",
     "text": [
      "{0.0} <music21.chord.Chord C B1>\n",
      "{4.0} <music21.chord.Chord A B2>\n",
      "{8.0} <music21.chord.Chord F# B3>\n",
      "{12.0} <music21.chord.Chord D# B4>\n"
     ]
    },
    {
     "data": {
      "text/html": [
       "\n",
       "                <div id='midiPlayerDiv779'></div>\n",
       "                <link rel=\"stylesheet\" href=\"//cuthbertLab.github.io/music21j/css/m21.css\"\n",
       "                    type=\"text/css\" />\n",
       "                \n",
       "                <script>\n",
       "                require.config({\n",
       "                    paths: {'music21': '//cuthbertLab.github.io/music21j/src/music21'}\n",
       "                });\n",
       "                require(['music21'], function() {\n",
       "                               mp = new music21.miditools.MidiPlayer();\n",
       "                               mp.addPlayer('#midiPlayerDiv779');\n",
       "                               mp.base64Load('data:audio/midi;base64,TVRoZAAAAAYAAQACBABNVHJrAAAAFAD/UQMHoSAA/1gEBAIYCIgA/y8ATVRyawAAAFIA/wMAAOAAQIgAkDxaAJAjWqAAgDwAAIAjAACQRVoAkC9aoACARQAAgC8AAJBCWgCQO1qgAIBCAACAOwAAkD9aAJBHWqAAgD8AAIBHAIgA/y8A');\n",
       "                        });\n",
       "                </script>"
      ],
      "text/plain": [
       "<IPython.core.display.HTML object>"
      ]
     },
     "metadata": {},
     "output_type": "display_data"
    }
   ],
   "source": [
    "verticet21_1 = chord.Chord([ver[0],'B1'],type = 'whole')\n",
    "verticet21_2 = chord.Chord([ver[1],'B4'],type = 'whole')\n",
    "verticet21_3 = chord.Chord([ver[2],'B3'],type = 'whole')\n",
    "verticet21_4 = chord.Chord([ver[3],'B2'],type = 'whole')\n",
    "\n",
    "El_21 = stream.Stream()\n",
    "El_21.append(verticet21_1)\n",
    "El_21.append(verticet21_4)\n",
    "El_21.append(verticet21_3)\n",
    "El_21.append(verticet21_2)\n",
    "\n",
    "El_21.show('text')\n",
    "\n",
    "El_21.show('midi')"
   ]
  },
  {
   "cell_type": "markdown",
   "id": "566cc36d",
   "metadata": {},
   "source": [
    "### Veintidoseavo elemento (13)"
   ]
  },
  {
   "cell_type": "code",
   "execution_count": 58,
   "id": "2c7b991e",
   "metadata": {},
   "outputs": [
    {
     "name": "stdout",
     "output_type": "stream",
     "text": [
      "{0.0} <music21.chord.Chord F# B1>\n",
      "{4.0} <music21.chord.Chord D# B2>\n",
      "{8.0} <music21.chord.Chord C B3>\n",
      "{12.0} <music21.chord.Chord A B4>\n"
     ]
    },
    {
     "data": {
      "text/html": [
       "\n",
       "                <div id='midiPlayerDiv808'></div>\n",
       "                <link rel=\"stylesheet\" href=\"//cuthbertLab.github.io/music21j/css/m21.css\"\n",
       "                    type=\"text/css\" />\n",
       "                \n",
       "                <script>\n",
       "                require.config({\n",
       "                    paths: {'music21': '//cuthbertLab.github.io/music21j/src/music21'}\n",
       "                });\n",
       "                require(['music21'], function() {\n",
       "                               mp = new music21.miditools.MidiPlayer();\n",
       "                               mp.addPlayer('#midiPlayerDiv808');\n",
       "                               mp.base64Load('data:audio/midi;base64,TVRoZAAAAAYAAQACBABNVHJrAAAAFAD/UQMHoSAA/1gEBAIYCIgA/y8ATVRyawAAAFIA/wMAAOAAQIgAkEJaAJAjWqAAgEIAAIAjAACQP1oAkC9aoACAPwAAgC8AAJA8WgCQO1qgAIA8AACAOwAAkEVaAJBHWqAAgEUAAIBHAIgA/y8A');\n",
       "                        });\n",
       "                </script>"
      ],
      "text/plain": [
       "<IPython.core.display.HTML object>"
      ]
     },
     "metadata": {},
     "output_type": "display_data"
    }
   ],
   "source": [
    "verticet22_1 = chord.Chord([ver[0],'B3'],type = 'whole')\n",
    "verticet22_2 = chord.Chord([ver[1],'B2'],type = 'whole')\n",
    "verticet22_3 = chord.Chord([ver[2],'B1'],type = 'whole')\n",
    "verticet22_4 = chord.Chord([ver[3],'B4'],type = 'whole')\n",
    "\n",
    "El_22 = stream.Stream()\n",
    "El_22.append(verticet22_3)\n",
    "El_22.append(verticet22_2)\n",
    "El_22.append(verticet22_1)\n",
    "El_22.append(verticet22_4)\n",
    "\n",
    "El_22.show('text')\n",
    "\n",
    "El_22.show('midi')"
   ]
  },
  {
   "cell_type": "markdown",
   "id": "3c02e0bc",
   "metadata": {},
   "source": [
    "### Veintitresavo elemento (1432)"
   ]
  },
  {
   "cell_type": "code",
   "execution_count": 59,
   "id": "3e3c516f",
   "metadata": {},
   "outputs": [
    {
     "name": "stdout",
     "output_type": "stream",
     "text": [
      "{0.0} <music21.chord.Chord A B3>\n",
      "{4.0} <music21.chord.Chord C B4>\n",
      "{8.0} <music21.chord.Chord D# B1>\n",
      "{12.0} <music21.chord.Chord F# B2>\n"
     ]
    },
    {
     "data": {
      "text/html": [
       "\n",
       "                <div id='midiPlayerDiv837'></div>\n",
       "                <link rel=\"stylesheet\" href=\"//cuthbertLab.github.io/music21j/css/m21.css\"\n",
       "                    type=\"text/css\" />\n",
       "                \n",
       "                <script>\n",
       "                require.config({\n",
       "                    paths: {'music21': '//cuthbertLab.github.io/music21j/src/music21'}\n",
       "                });\n",
       "                require(['music21'], function() {\n",
       "                               mp = new music21.miditools.MidiPlayer();\n",
       "                               mp.addPlayer('#midiPlayerDiv837');\n",
       "                               mp.base64Load('data:audio/midi;base64,TVRoZAAAAAYAAQACBABNVHJrAAAAFAD/UQMHoSAA/1gEBAIYCIgA/y8ATVRyawAAAFIA/wMAAOAAQIgAkEVaAJA7WqAAgEUAAIA7AACQPFoAkEdaoACAPAAAgEcAAJA/WgCQI1qgAIA/AACAIwAAkEJaAJAvWqAAgEIAAIAvAIgA/y8A');\n",
       "                        });\n",
       "                </script>"
      ],
      "text/plain": [
       "<IPython.core.display.HTML object>"
      ]
     },
     "metadata": {},
     "output_type": "display_data"
    }
   ],
   "source": [
    "verticet23_1 = chord.Chord([ver[0],'B4'],type = 'whole')\n",
    "verticet23_2 = chord.Chord([ver[1],'B1'],type = 'whole')\n",
    "verticet23_3 = chord.Chord([ver[2],'B2'],type = 'whole')\n",
    "verticet23_4 = chord.Chord([ver[3],'B3'],type = 'whole')\n",
    "\n",
    "El_23 = stream.Stream()\n",
    "El_23.append(verticet23_4)\n",
    "El_23.append(verticet23_1)\n",
    "El_23.append(verticet23_2)\n",
    "El_23.append(verticet23_3)\n",
    "\n",
    "El_23.show('text')\n",
    "\n",
    "El_23.show('midi')"
   ]
  },
  {
   "cell_type": "markdown",
   "id": "ef6d55ab",
   "metadata": {},
   "source": [
    "### Veinticuatreavo elemento (1234)"
   ]
  },
  {
   "cell_type": "code",
   "execution_count": 60,
   "id": "4e9e361a",
   "metadata": {},
   "outputs": [
    {
     "name": "stdout",
     "output_type": "stream",
     "text": [
      "{0.0} <music21.chord.Chord D# B3>\n",
      "{4.0} <music21.chord.Chord F# B4>\n",
      "{8.0} <music21.chord.Chord A B1>\n",
      "{12.0} <music21.chord.Chord C B2>\n"
     ]
    },
    {
     "data": {
      "text/html": [
       "\n",
       "                <div id='midiPlayerDiv866'></div>\n",
       "                <link rel=\"stylesheet\" href=\"//cuthbertLab.github.io/music21j/css/m21.css\"\n",
       "                    type=\"text/css\" />\n",
       "                \n",
       "                <script>\n",
       "                require.config({\n",
       "                    paths: {'music21': '//cuthbertLab.github.io/music21j/src/music21'}\n",
       "                });\n",
       "                require(['music21'], function() {\n",
       "                               mp = new music21.miditools.MidiPlayer();\n",
       "                               mp.addPlayer('#midiPlayerDiv866');\n",
       "                               mp.base64Load('data:audio/midi;base64,TVRoZAAAAAYAAQACBABNVHJrAAAAFAD/UQMHoSAA/1gEBAIYCIgA/y8ATVRyawAAAFIA/wMAAOAAQIgAkD9aAJA7WqAAgD8AAIA7AACQQloAkEdaoACAQgAAgEcAAJBFWgCQI1qgAIBFAACAIwAAkDxaAJAvWqAAgDwAAIAvAIgA/y8A');\n",
       "                        });\n",
       "                </script>"
      ],
      "text/plain": [
       "<IPython.core.display.HTML object>"
      ]
     },
     "metadata": {},
     "output_type": "display_data"
    }
   ],
   "source": [
    "verticet24_1 = chord.Chord([ver[0],'B2'],type = 'whole')\n",
    "verticet24_2 = chord.Chord([ver[1],'B3'],type = 'whole')\n",
    "verticet24_3 = chord.Chord([ver[2],'B4'],type = 'whole')\n",
    "verticet24_4 = chord.Chord([ver[3],'B1'],type = 'whole')\n",
    "\n",
    "El_24 = stream.Stream()\n",
    "El_24.append(verticet24_2)\n",
    "El_24.append(verticet24_3)\n",
    "El_24.append(verticet24_4)\n",
    "El_24.append(verticet24_1)\n",
    "\n",
    "El_24.show('text')\n",
    "\n",
    "El_24.show('midi')"
   ]
  },
  {
   "cell_type": "code",
   "execution_count": null,
   "id": "644463e6",
   "metadata": {},
   "outputs": [],
   "source": [
    "Podriamos hacer una funcion que nos pase de un elemento a otro"
   ]
  },
  {
   "cell_type": "code",
   "execution_count": null,
   "id": "9c804b72",
   "metadata": {},
   "outputs": [],
   "source": []
  },
  {
   "cell_type": "code",
   "execution_count": null,
   "id": "857f0d1e",
   "metadata": {},
   "outputs": [],
   "source": []
  },
  {
   "cell_type": "code",
   "execution_count": null,
   "id": "da995070",
   "metadata": {},
   "outputs": [],
   "source": []
  },
  {
   "cell_type": "code",
   "execution_count": null,
   "id": "f26458f2",
   "metadata": {},
   "outputs": [],
   "source": []
  },
  {
   "cell_type": "code",
   "execution_count": null,
   "id": "5a11cb23",
   "metadata": {},
   "outputs": [],
   "source": []
  },
  {
   "cell_type": "code",
   "execution_count": null,
   "id": "91706132",
   "metadata": {},
   "outputs": [],
   "source": []
  },
  {
   "cell_type": "code",
   "execution_count": null,
   "id": "9253af91",
   "metadata": {},
   "outputs": [],
   "source": []
  }
 ],
 "metadata": {
  "kernelspec": {
   "display_name": "Python 3 (ipykernel)",
   "language": "python",
   "name": "python3"
  },
  "language_info": {
   "codemirror_mode": {
    "name": "ipython",
    "version": 3
   },
   "file_extension": ".py",
   "mimetype": "text/x-python",
   "name": "python",
   "nbconvert_exporter": "python",
   "pygments_lexer": "ipython3",
   "version": "3.9.12"
  }
 },
 "nbformat": 4,
 "nbformat_minor": 5
}
