{
 "cells": [
  {
   "cell_type": "code",
   "execution_count": 1,
   "id": "43ca0042",
   "metadata": {},
   "outputs": [],
   "source": [
    "import math\n",
    "from music21 import *"
   ]
  },
  {
   "cell_type": "code",
   "execution_count": 2,
   "id": "f2133f5d",
   "metadata": {},
   "outputs": [],
   "source": [
    "def primo(num):\n",
    "    if (num<=1):\n",
    "        return False\n",
    " \n",
    "    for i in range(2, math.ceil(math.sqrt(num))+1):\n",
    "        if(num%i==0 and i!=num):\n",
    "            return False\n",
    "    return True\n",
    "t = stream.Stream()   \n",
    "for i in range(1,101):\n",
    "    if primo(i):\n",
    "        #print (\"El número \",i,\" es primo\")\n",
    "        n = note.Note(int(60), type='half') ### types es la duración de la nota\n",
    "        t.append(n)\n",
    "    else:\n",
    "        #print (\"El número \",i,\" NO es primo\")\n",
    "        nota_2 = note.Note(int(10), type='half')\n",
    "        t.append(nota_2)"
   ]
  },
  {
   "cell_type": "code",
   "execution_count": 3,
   "id": "2f31029e",
   "metadata": {},
   "outputs": [
    {
     "data": {
      "text/html": [
       "\n",
       "                <div id='midiPlayerDiv508'></div>\n",
       "                <link rel=\"stylesheet\" href=\"//cuthbertLab.github.io/music21j/css/m21.css\"\n",
       "                    type=\"text/css\" />\n",
       "                \n",
       "                <script>\n",
       "                require.config({\n",
       "                    paths: {'music21': '//cuthbertLab.github.io/music21j/src/music21'}\n",
       "                });\n",
       "                require(['music21'], function() {\n",
       "                               mp = new music21.miditools.MidiPlayer();\n",
       "                               mp.addPlayer('#midiPlayerDiv508');\n",
       "                               mp.base64Load('data:audio/midi;base64,TVRoZAAAAAYAAQACBABNVHJrAAAAFAD/UQMHoSAA/1gEBAIYCIgA/y8ATVRyawAAA5IA/wMAAOAAQIgAkEZakACARgAAkDxakACAPAAAkDxakACAPAAAkEZakACARgAAkDxakACAPAAAkEZakACARgAAkDxakACAPAAAkEZakACARgAAkEZakACARgAAkEZakACARgAAkDxakACAPAAAkEZakACARgAAkDxakACAPAAAkEZakACARgAAkEZakACARgAAkEZakACARgAAkDxakACAPAAAkEZakACARgAAkDxakACAPAAAkEZakACARgAAkEZakACARgAAkEZakACARgAAkDxakACAPAAAkEZakACARgAAkEZakACARgAAkEZakACARgAAkEZakACARgAAkEZakACARgAAkDxakACAPAAAkEZakACARgAAkDxakACAPAAAkEZakACARgAAkEZakACARgAAkEZakACARgAAkEZakACARgAAkEZakACARgAAkDxakACAPAAAkEZakACARgAAkEZakACARgAAkEZakACARgAAkDxakACAPAAAkEZakACARgAAkDxakACAPAAAkEZakACARgAAkEZakACARgAAkEZakACARgAAkDxakACAPAAAkEZakACARgAAkEZakACARgAAkEZakACARgAAkEZakACARgAAkEZakACARgAAkDxakACAPAAAkEZakACARgAAkEZakACARgAAkEZakACARgAAkEZakACARgAAkEZakACARgAAkDxakACAPAAAkEZakACARgAAkDxakACAPAAAkEZakACARgAAkEZakACARgAAkEZakACARgAAkEZakACARgAAkEZakACARgAAkDxakACAPAAAkEZakACARgAAkEZakACARgAAkEZakACARgAAkDxakACAPAAAkEZakACARgAAkDxakACAPAAAkEZakACARgAAkEZakACARgAAkEZakACARgAAkEZakACARgAAkEZakACARgAAkDxakACAPAAAkEZakACARgAAkEZakACARgAAkEZakACARgAAkDxakACAPAAAkEZakACARgAAkEZakACARgAAkEZakACARgAAkEZakACARgAAkEZakACARgAAkDxakACAPAAAkEZakACARgAAkEZakACARgAAkEZakACARgAAkEZakACARgAAkEZakACARgAAkEZakACARgAAkEZakACARgAAkDxakACAPAAAkEZakACARgAAkEZakACARgAAkEZakACARgCIAP8vAA==');\n",
       "                        });\n",
       "                </script>"
      ],
      "text/plain": [
       "<IPython.core.display.HTML object>"
      ]
     },
     "metadata": {},
     "output_type": "display_data"
    }
   ],
   "source": [
    "t.show('midi')"
   ]
  },
  {
   "cell_type": "code",
   "execution_count": 4,
   "id": "3712fa93",
   "metadata": {},
   "outputs": [],
   "source": [
    "clase_0 = []\n",
    "clase_1 = []\n",
    "clase_2 = []\n",
    "clase_3 = []\n",
    "clase_4 = []\n",
    "clase_5 = []\n",
    "clase_6 = []\n",
    "clase_7 = []\n",
    "clase_8 = []\n",
    "clase_9 = []"
   ]
  },
  {
   "cell_type": "code",
   "execution_count": 5,
   "id": "1c1b6194",
   "metadata": {},
   "outputs": [],
   "source": [
    "for i in range(101):\n",
    "    if i % 10 == 0:\n",
    "        clase_0.append(i)\n",
    "    elif i % 10 == 1:\n",
    "        clase_1.append(i)\n",
    "    elif i % 10 == 2:\n",
    "        clase_2.append(i)\n",
    "    elif i % 10 == 3:\n",
    "        clase_3.append(i)\n",
    "    elif i % 10 == 4:\n",
    "        clase_4.append(i)\n",
    "    elif i % 10 == 5:\n",
    "        clase_5.append(i)\n",
    "    elif i % 10 == 6:\n",
    "        clase_6.append(i)\n",
    "    elif i % 10 == 7:\n",
    "        clase_7.append(i)\n",
    "    elif i % 10 == 8:\n",
    "        clase_8.append(i)\n",
    "    elif i % 10 == 9:\n",
    "        clase_9.append(i)"
   ]
  },
  {
   "cell_type": "code",
   "execution_count": 6,
   "id": "eca1ecd4",
   "metadata": {},
   "outputs": [
    {
     "data": {
      "text/plain": [
       "([0, 10, 20, 30, 40, 50, 60, 70, 80, 90, 100],\n",
       " [1, 11, 21, 31, 41, 51, 61, 71, 81, 91],\n",
       " [2, 12, 22, 32, 42, 52, 62, 72, 82, 92],\n",
       " [3, 13, 23, 33, 43, 53, 63, 73, 83, 93],\n",
       " [4, 14, 24, 34, 44, 54, 64, 74, 84, 94],\n",
       " [5, 15, 25, 35, 45, 55, 65, 75, 85, 95],\n",
       " [6, 16, 26, 36, 46, 56, 66, 76, 86, 96],\n",
       " [7, 17, 27, 37, 47, 57, 67, 77, 87, 97],\n",
       " [8, 18, 28, 38, 48, 58, 68, 78, 88, 98],\n",
       " [9, 19, 29, 39, 49, 59, 69, 79, 89, 99])"
      ]
     },
     "execution_count": 6,
     "metadata": {},
     "output_type": "execute_result"
    }
   ],
   "source": [
    "clase_0,clase_1,clase_2,clase_3,clase_4,clase_5,clase_6,clase_7,clase_8,clase_9 "
   ]
  },
  {
   "cell_type": "code",
   "execution_count": 7,
   "id": "069eda0d",
   "metadata": {},
   "outputs": [],
   "source": [
    "for i in clase_1:\n",
    "    if primo(i) == False:\n",
    "        clase_1.remove(i)\n",
    "for i in clase_3:\n",
    "    if primo(i) == False:\n",
    "        clase_3.remove(i)\n",
    "for i in clase_7:\n",
    "    if primo(i) == False:\n",
    "        clase_7.remove(i)\n",
    "for i in clase_9:\n",
    "    if primo(i) == False:\n",
    "        clase_9.remove(i)"
   ]
  },
  {
   "cell_type": "code",
   "execution_count": 8,
   "id": "e60fa43c",
   "metadata": {},
   "outputs": [
    {
     "data": {
      "text/plain": [
       "([11, 31, 41, 61, 71, 91],\n",
       " [3, 13, 23, 43, 53, 73, 83],\n",
       " [7, 17, 37, 47, 67, 87, 97],\n",
       " [19, 29, 49, 59, 79, 89])"
      ]
     },
     "execution_count": 8,
     "metadata": {},
     "output_type": "execute_result"
    }
   ],
   "source": [
    "clase_1,clase_3,clase_7,clase_9"
   ]
  },
  {
   "cell_type": "code",
   "execution_count": 9,
   "id": "f6570808",
   "metadata": {},
   "outputs": [],
   "source": [
    "primos = []\n",
    "for i in range(101):\n",
    "    if primo(i) == True:\n",
    "        primos.append(i)"
   ]
  },
  {
   "cell_type": "code",
   "execution_count": 10,
   "id": "ce504503",
   "metadata": {},
   "outputs": [
    {
     "data": {
      "text/plain": [
       "[2,\n",
       " 3,\n",
       " 5,\n",
       " 7,\n",
       " 11,\n",
       " 13,\n",
       " 17,\n",
       " 19,\n",
       " 23,\n",
       " 29,\n",
       " 31,\n",
       " 37,\n",
       " 41,\n",
       " 43,\n",
       " 47,\n",
       " 53,\n",
       " 59,\n",
       " 61,\n",
       " 67,\n",
       " 71,\n",
       " 73,\n",
       " 79,\n",
       " 83,\n",
       " 89,\n",
       " 97]"
      ]
     },
     "execution_count": 10,
     "metadata": {},
     "output_type": "execute_result"
    }
   ],
   "source": [
    "primos"
   ]
  },
  {
   "cell_type": "code",
   "execution_count": 11,
   "id": "2c98bc56",
   "metadata": {},
   "outputs": [],
   "source": [
    "Sonorizacion = stream.Stream()"
   ]
  },
  {
   "cell_type": "code",
   "execution_count": 12,
   "id": "4d44d531",
   "metadata": {},
   "outputs": [],
   "source": [
    "acordesClase_0 = [['A0'],['A0','A0'],['A0','A0','A0'],['A0','A0','A0','A0'],['A0','A0','A0','A0','A0'], \n",
    "['A0','A0','A0','A0','A0','A0'],['A0','A0','A0','A0','A0','A0','A0'],\n",
    "['A0','A0','A0','A0','A0','A0','A0','A0'],['A0','A0','A0','A0','A0','A0','A0','A0','A0'],\n",
    "['A0','A0','A0','A0','A0','A0','A0','A0','A0','A0']]"
   ]
  },
  {
   "cell_type": "code",
   "execution_count": 13,
   "id": "7dd8e611",
   "metadata": {},
   "outputs": [],
   "source": [
    "for i in range(1,101):\n",
    "    if i in clase_0:\n",
    "        acorde = chord.Chord(acordesClase_0[int((i/10)-1)], type='half')\n",
    "        Sonorizacion.append(acorde)\n",
    "    if i in clase_1:\n",
    "        nota_1 = chord.Chord(['B','D'],type='half')\n",
    "        Sonorizacion.append(nota_1)\n",
    "            \n",
    "    if i in clase_3:\n",
    "        nota_3 = chord.Chord(['B','E'],type='half')\n",
    "        Sonorizacion.append(nota_3)\n",
    "            \n",
    "    if i in clase_7:\n",
    "        nota_7 = chord.Chord(['B','F'],type='half')\n",
    "        Sonorizacion.append(nota_7)\n",
    "            \n",
    "    if i in clase_9:\n",
    "        nota_9 = chord.Chord(['B','G'],type='half')\n",
    "        Sonorizacion.append(nota_9)\n",
    "    if i == 2 or i == 5:\n",
    "        primos = note.Note('B', type='half') ### types es la duración de la nota\n",
    "        Sonorizacion.append(primos)\n",
    "        \n",
    "        \n",
    "    else:\n",
    "        noprimos = note.Note('C', type='half')\n",
    "        Sonorizacion.append(noprimos)"
   ]
  },
  {
   "cell_type": "code",
   "execution_count": 14,
   "id": "c5f61529",
   "metadata": {},
   "outputs": [
    {
     "data": {
      "text/html": [
       "\n",
       "                <div id='midiPlayerDiv1197'></div>\n",
       "                <link rel=\"stylesheet\" href=\"//cuthbertLab.github.io/music21j/css/m21.css\"\n",
       "                    type=\"text/css\" />\n",
       "                \n",
       "                <script>\n",
       "                require.config({\n",
       "                    paths: {'music21': '//cuthbertLab.github.io/music21j/src/music21'}\n",
       "                });\n",
       "                require(['music21'], function() {\n",
       "                               mp = new music21.miditools.MidiPlayer();\n",
       "                               mp.addPlayer('#midiPlayerDiv1197');\n",
       "                               mp.base64Load('data:audio/midi;base64,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');\n",
       "                        });\n",
       "                </script>"
      ],
      "text/plain": [
       "<IPython.core.display.HTML object>"
      ]
     },
     "metadata": {},
     "output_type": "display_data"
    }
   ],
   "source": [
    "Sonorizacion.show('midi')"
   ]
  },
  {
   "cell_type": "code",
   "execution_count": null,
   "id": "0761eab3",
   "metadata": {},
   "outputs": [],
   "source": []
  },
  {
   "cell_type": "code",
   "execution_count": null,
   "id": "80e080ab",
   "metadata": {},
   "outputs": [],
   "source": []
  }
 ],
 "metadata": {
  "kernelspec": {
   "display_name": "Python 3 (ipykernel)",
   "language": "python",
   "name": "python3"
  },
  "language_info": {
   "codemirror_mode": {
    "name": "ipython",
    "version": 3
   },
   "file_extension": ".py",
   "mimetype": "text/x-python",
   "name": "python",
   "nbconvert_exporter": "python",
   "pygments_lexer": "ipython3",
   "version": "3.9.12"
  }
 },
 "nbformat": 4,
 "nbformat_minor": 5
}
