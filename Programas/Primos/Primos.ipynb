{
 "cells": [
  {
   "cell_type": "code",
   "execution_count": 1,
   "id": "43ca0042",
   "metadata": {},
   "outputs": [],
   "source": [
    "import math\n",
    "from music21 import *"
   ]
  },
  {
   "cell_type": "code",
   "execution_count": 2,
   "id": "c0d80b3f",
   "metadata": {},
   "outputs": [],
   "source": [
    "def primo(num):\n",
    "    if (num<=1):\n",
    "        return False\n",
    "    for i in range(2, math.ceil(math.sqrt(num))+1):\n",
    "        if(num%i==0 and i!=num):\n",
    "            return False\n",
    "    return True"
   ]
  },
  {
   "cell_type": "code",
   "execution_count": 3,
   "id": "40c3bdc1",
   "metadata": {},
   "outputs": [],
   "source": [
    "sonorizacion_primos = stream.Stream()   "
   ]
  },
  {
   "cell_type": "code",
   "execution_count": 4,
   "id": "508ad604",
   "metadata": {},
   "outputs": [],
   "source": [
    "for i in range(1,101):\n",
    "    \n",
    "    if primo(i):\n",
    "        nota_1 = note.Note(60, type='half') \n",
    "        sonorizacion_primos.append(nota_1)\n",
    "    else:\n",
    "\n",
    "        nota_2 = note.Note(61, type='half')\n",
    "        sonorizacion_primos.append(nota_2)"
   ]
  },
  {
   "cell_type": "code",
   "execution_count": 5,
   "id": "2f31029e",
   "metadata": {},
   "outputs": [
    {
     "data": {
      "text/html": [
       "\n",
       "                <div id='midiPlayerDiv508'></div>\n",
       "                <link rel=\"stylesheet\" href=\"//cuthbertLab.github.io/music21j/css/m21.css\"\n",
       "                    type=\"text/css\" />\n",
       "                \n",
       "                <script>\n",
       "                require.config({\n",
       "                    paths: {'music21': '//cuthbertLab.github.io/music21j/src/music21'}\n",
       "                });\n",
       "                require(['music21'], function() {\n",
       "                               mp = new music21.miditools.MidiPlayer();\n",
       "                               mp.addPlayer('#midiPlayerDiv508');\n",
       "                               mp.base64Load('data:audio/midi;base64,TVRoZAAAAAYAAQACBABNVHJrAAAAFAD/UQMHoSAA/1gEBAIYCIgA/y8ATVRyawAAA5IA/wMAAOAAQIgAkD1akACAPQAAkDxakACAPAAAkDxakACAPAAAkD1akACAPQAAkDxakACAPAAAkD1akACAPQAAkDxakACAPAAAkD1akACAPQAAkD1akACAPQAAkD1akACAPQAAkDxakACAPAAAkD1akACAPQAAkDxakACAPAAAkD1akACAPQAAkD1akACAPQAAkD1akACAPQAAkDxakACAPAAAkD1akACAPQAAkDxakACAPAAAkD1akACAPQAAkD1akACAPQAAkD1akACAPQAAkDxakACAPAAAkD1akACAPQAAkD1akACAPQAAkD1akACAPQAAkD1akACAPQAAkD1akACAPQAAkDxakACAPAAAkD1akACAPQAAkDxakACAPAAAkD1akACAPQAAkD1akACAPQAAkD1akACAPQAAkD1akACAPQAAkD1akACAPQAAkDxakACAPAAAkD1akACAPQAAkD1akACAPQAAkD1akACAPQAAkDxakACAPAAAkD1akACAPQAAkDxakACAPAAAkD1akACAPQAAkD1akACAPQAAkD1akACAPQAAkDxakACAPAAAkD1akACAPQAAkD1akACAPQAAkD1akACAPQAAkD1akACAPQAAkD1akACAPQAAkDxakACAPAAAkD1akACAPQAAkD1akACAPQAAkD1akACAPQAAkD1akACAPQAAkD1akACAPQAAkDxakACAPAAAkD1akACAPQAAkDxakACAPAAAkD1akACAPQAAkD1akACAPQAAkD1akACAPQAAkD1akACAPQAAkD1akACAPQAAkDxakACAPAAAkD1akACAPQAAkD1akACAPQAAkD1akACAPQAAkDxakACAPAAAkD1akACAPQAAkDxakACAPAAAkD1akACAPQAAkD1akACAPQAAkD1akACAPQAAkD1akACAPQAAkD1akACAPQAAkDxakACAPAAAkD1akACAPQAAkD1akACAPQAAkD1akACAPQAAkDxakACAPAAAkD1akACAPQAAkD1akACAPQAAkD1akACAPQAAkD1akACAPQAAkD1akACAPQAAkDxakACAPAAAkD1akACAPQAAkD1akACAPQAAkD1akACAPQAAkD1akACAPQAAkD1akACAPQAAkD1akACAPQAAkD1akACAPQAAkDxakACAPAAAkD1akACAPQAAkD1akACAPQAAkD1akACAPQCIAP8vAA==');\n",
       "                        });\n",
       "                </script>"
      ],
      "text/plain": [
       "<IPython.core.display.HTML object>"
      ]
     },
     "metadata": {},
     "output_type": "display_data"
    }
   ],
   "source": [
    "sonorizacion_primos.show('midi')"
   ]
  },
  {
   "cell_type": "markdown",
   "id": "7f723b6a",
   "metadata": {},
   "source": [
    "<p style=\"color:red;\">Apesar de que esto nos sonoriza que numeros son primos y cuales no, aun no tenemos una manera de diferenciar unos primos de otros por ello para mejorar esta sonorizacion utilizaremos lo siguiente<p>"
   ]
  },
  {
   "cell_type": "markdown",
   "id": "b2b28754",
   "metadata": {},
   "source": [
    "# Teorema de Dirichlet"
   ]
  },
  {
   "cell_type": "markdown",
   "id": "f5816a92",
   "metadata": {},
   "source": [
    "* * *"
   ]
  },
  {
   "cell_type": "markdown",
   "id": "baadf593",
   "metadata": {},
   "source": [
    " Sea $a,d\\in \\mathbb {N}$  tal que el máximo común divisor $mcd (a,d)=1$, entonces la progresión aritmética $ a_{n}=a+n\\cdot d$ contiene infinitos números primos."
   ]
  },
  {
   "cell_type": "markdown",
   "id": "dd09d178",
   "metadata": {},
   "source": [
    "* * *"
   ]
  },
  {
   "cell_type": "markdown",
   "id": "6cc5446b",
   "metadata": {},
   "source": [
    "El teorema anterior lo podemos extender a distintas bases como sigue: "
   ]
  },
  {
   "cell_type": "markdown",
   "id": "e9b44582",
   "metadata": {},
   "source": [
    "Sea $a,b \\in\\mathbb{N}$ con $b$ base numerica, $mcd(a,b)=1$"
   ]
  },
  {
   "cell_type": "markdown",
   "id": "79e65878",
   "metadata": {},
   "source": [
    "## Ejemplo base 10"
   ]
  },
  {
   "cell_type": "code",
   "execution_count": 6,
   "id": "3712fa93",
   "metadata": {},
   "outputs": [],
   "source": [
    "clase_0 = []\n",
    "clase_1 = []\n",
    "clase_2 = []\n",
    "clase_3 = []\n",
    "clase_4 = []\n",
    "clase_5 = []\n",
    "clase_6 = []\n",
    "clase_7 = []\n",
    "clase_8 = []\n",
    "clase_9 = []"
   ]
  },
  {
   "cell_type": "code",
   "execution_count": 7,
   "id": "1c1b6194",
   "metadata": {},
   "outputs": [],
   "source": [
    "for i in range(101):\n",
    "    if i % 10 == 0:\n",
    "        clase_0.append(i)\n",
    "    elif i % 10 == 1:\n",
    "        clase_1.append(i)\n",
    "    elif i % 10 == 2:\n",
    "        clase_2.append(i)\n",
    "    elif i % 10 == 3:\n",
    "        clase_3.append(i)\n",
    "    elif i % 10 == 4:\n",
    "        clase_4.append(i)\n",
    "    elif i % 10 == 5:\n",
    "        clase_5.append(i)\n",
    "    elif i % 10 == 6:\n",
    "        clase_6.append(i)\n",
    "    elif i % 10 == 7:\n",
    "        clase_7.append(i)\n",
    "    elif i % 10 == 8:\n",
    "        clase_8.append(i)\n",
    "    elif i % 10 == 9:\n",
    "        clase_9.append(i)"
   ]
  },
  {
   "cell_type": "markdown",
   "id": "b02e5064",
   "metadata": {},
   "source": [
    "Asi tenemos las clases de equivalencia $X \\equiv i\\  mod\\ 10$ con $i \\in \\{0,\\ldots,9\\}$"
   ]
  },
  {
   "cell_type": "code",
   "execution_count": 8,
   "id": "eca1ecd4",
   "metadata": {},
   "outputs": [
    {
     "data": {
      "text/plain": [
       "([0, 10, 20, 30, 40, 50, 60, 70, 80, 90, 100],\n",
       " [1, 11, 21, 31, 41, 51, 61, 71, 81, 91],\n",
       " [2, 12, 22, 32, 42, 52, 62, 72, 82, 92],\n",
       " [3, 13, 23, 33, 43, 53, 63, 73, 83, 93],\n",
       " [4, 14, 24, 34, 44, 54, 64, 74, 84, 94],\n",
       " [5, 15, 25, 35, 45, 55, 65, 75, 85, 95],\n",
       " [6, 16, 26, 36, 46, 56, 66, 76, 86, 96],\n",
       " [7, 17, 27, 37, 47, 57, 67, 77, 87, 97],\n",
       " [8, 18, 28, 38, 48, 58, 68, 78, 88, 98],\n",
       " [9, 19, 29, 39, 49, 59, 69, 79, 89, 99])"
      ]
     },
     "execution_count": 8,
     "metadata": {},
     "output_type": "execute_result"
    }
   ],
   "source": [
    "clase_0,clase_1,clase_2,clase_3,clase_4,clase_5,clase_6,clase_7,clase_8,clase_9 "
   ]
  },
  {
   "cell_type": "markdown",
   "id": "7dfd1c1b",
   "metadata": {},
   "source": [
    "Notamos que las clases de equivalencia donde nos van a aparecer los numeros primos corresponden a los residuos siguientes:\n",
    "$$X \\equiv 1\\  mod\\ 10$$\n",
    "$$X \\equiv 3\\  mod\\ 10$$\n",
    "$$X \\equiv 7\\  mod\\ 10$$\n",
    "$$X \\equiv 9\\  mod\\ 10$$\n",
    "No tomamos encuenta las clases con residuos 2,5 puesto que solo nos aparece un numero primo \n"
   ]
  },
  {
   "cell_type": "code",
   "execution_count": 9,
   "id": "069eda0d",
   "metadata": {},
   "outputs": [],
   "source": [
    "for i in clase_1:\n",
    "    if primo(i) == False:\n",
    "        clase_1.remove(i)\n",
    "for i in clase_3:\n",
    "    if primo(i) == False:\n",
    "        clase_3.remove(i)\n",
    "for i in clase_7:\n",
    "    if primo(i) == False:\n",
    "        clase_7.remove(i)\n",
    "for i in clase_9:\n",
    "    if primo(i) == False:\n",
    "        clase_9.remove(i)"
   ]
  },
  {
   "cell_type": "markdown",
   "id": "acaacbbc",
   "metadata": {},
   "source": [
    "Ahora veamos los numeros primos que corresponden a cada clase "
   ]
  },
  {
   "cell_type": "code",
   "execution_count": 10,
   "id": "e60fa43c",
   "metadata": {},
   "outputs": [
    {
     "data": {
      "text/plain": [
       "([11, 31, 41, 61, 71, 91],\n",
       " [3, 13, 23, 43, 53, 73, 83],\n",
       " [7, 17, 37, 47, 67, 87, 97],\n",
       " [19, 29, 49, 59, 79, 89])"
      ]
     },
     "execution_count": 10,
     "metadata": {},
     "output_type": "execute_result"
    }
   ],
   "source": [
    "clase_1,clase_3,clase_7,clase_9"
   ]
  },
  {
   "cell_type": "markdown",
   "id": "1d5f2c26",
   "metadata": {},
   "source": [
    "Una vez hecho esto podemos sonorizarlo de mejor manera donde a las clases de equivalencia con un unico primo les damos una nota unica y a las clases de equivalencia con mas de un primo les damos otra nota que todos los primos compartan "
   ]
  },
  {
   "cell_type": "code",
   "execution_count": 11,
   "id": "f6570808",
   "metadata": {},
   "outputs": [],
   "source": [
    "primos = []\n",
    "for i in range(101):\n",
    "    if primo(i) == True:\n",
    "        primos.append(i)"
   ]
  },
  {
   "cell_type": "code",
   "execution_count": 12,
   "id": "ce504503",
   "metadata": {},
   "outputs": [
    {
     "data": {
      "text/plain": [
       "[2,\n",
       " 3,\n",
       " 5,\n",
       " 7,\n",
       " 11,\n",
       " 13,\n",
       " 17,\n",
       " 19,\n",
       " 23,\n",
       " 29,\n",
       " 31,\n",
       " 37,\n",
       " 41,\n",
       " 43,\n",
       " 47,\n",
       " 53,\n",
       " 59,\n",
       " 61,\n",
       " 67,\n",
       " 71,\n",
       " 73,\n",
       " 79,\n",
       " 83,\n",
       " 89,\n",
       " 97]"
      ]
     },
     "execution_count": 12,
     "metadata": {},
     "output_type": "execute_result"
    }
   ],
   "source": [
    "primos"
   ]
  },
  {
   "cell_type": "code",
   "execution_count": 13,
   "id": "2c98bc56",
   "metadata": {},
   "outputs": [],
   "source": [
    "Sonorizacion = stream.Stream()"
   ]
  },
  {
   "cell_type": "code",
   "execution_count": 14,
   "id": "4d44d531",
   "metadata": {},
   "outputs": [],
   "source": [
    "acordesClase_0 = [['A0'],['A0','A0'],['A0','A0','A0'],['A0','A0','A0','A0'],['A0','A0','A0','A0','A0'], \n",
    "['A0','A0','A0','A0','A0','A0'],['A0','A0','A0','A0','A0','A0','A0'],\n",
    "['A0','A0','A0','A0','A0','A0','A0','A0'],['A0','A0','A0','A0','A0','A0','A0','A0','A0'],\n",
    "['A0','A0','A0','A0','A0','A0','A0','A0','A0','A0']]"
   ]
  },
  {
   "cell_type": "code",
   "execution_count": 15,
   "id": "7dd8e611",
   "metadata": {},
   "outputs": [],
   "source": [
    "for i in range(1,101):\n",
    "    if i in clase_0:\n",
    "        acorde = chord.Chord(acordesClase_0[int((i/10)-1)], type='half')\n",
    "        Sonorizacion.append(acorde)\n",
    "    if i in clase_1:\n",
    "        nota_1 = chord.Chord(['B','D'],type='half')\n",
    "        Sonorizacion.append(nota_1)\n",
    "            \n",
    "    if i in clase_3:\n",
    "        nota_3 = chord.Chord(['B','E'],type='half')\n",
    "        Sonorizacion.append(nota_3)\n",
    "            \n",
    "    if i in clase_7:\n",
    "        nota_7 = chord.Chord(['B','F'],type='half')\n",
    "        Sonorizacion.append(nota_7)\n",
    "            \n",
    "    if i in clase_9:\n",
    "        nota_9 = chord.Chord(['B','G'],type='half')\n",
    "        Sonorizacion.append(nota_9)\n",
    "    if i == 2 or i == 5:\n",
    "        primos = note.Note('B', type='half') ### types es la duración de la nota\n",
    "        Sonorizacion.append(primos)\n",
    "        \n",
    "        \n",
    "    else:\n",
    "        noprimos = note.Note('C', type='half')\n",
    "        Sonorizacion.append(noprimos)"
   ]
  },
  {
   "cell_type": "code",
   "execution_count": 16,
   "id": "c5f61529",
   "metadata": {},
   "outputs": [
    {
     "data": {
      "text/html": [
       "\n",
       "                <div id='midiPlayerDiv1197'></div>\n",
       "                <link rel=\"stylesheet\" href=\"//cuthbertLab.github.io/music21j/css/m21.css\"\n",
       "                    type=\"text/css\" />\n",
       "                \n",
       "                <script>\n",
       "                require.config({\n",
       "                    paths: {'music21': '//cuthbertLab.github.io/music21j/src/music21'}\n",
       "                });\n",
       "                require(['music21'], function() {\n",
       "                               mp = new music21.miditools.MidiPlayer();\n",
       "                               mp.addPlayer('#midiPlayerDiv1197');\n",
       "                               mp.base64Load('data:audio/midi;base64,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');\n",
       "                        });\n",
       "                </script>"
      ],
      "text/plain": [
       "<IPython.core.display.HTML object>"
      ]
     },
     "metadata": {},
     "output_type": "display_data"
    }
   ],
   "source": [
    "Sonorizacion.show('midi')"
   ]
  },
  {
   "cell_type": "code",
   "execution_count": 17,
   "id": "0761eab3",
   "metadata": {},
   "outputs": [],
   "source": [
    "new = stream.Stream()   \n",
    "for i in range(1,101):\n",
    "    if primo(i):\n",
    "        #print (\"El número \",i,\" es primo\")\n",
    "        n = note.Note(int(60), type='half') ### types es la duración de la nota\n",
    "        new.append(n)\n",
    "    if i in clase_0:\n",
    "        acorde = chord.Chord(acordesClase_0[int((i/10)-1)], type='half')\n",
    "        new.append(acorde)        \n",
    "    else:\n",
    "        #print (\"El número \",i,\" NO es primo\")\n",
    "        nota_2 = note.Note(int(10), type='half')\n",
    "        new.append(nota_2)"
   ]
  },
  {
   "cell_type": "code",
   "execution_count": 18,
   "id": "80e080ab",
   "metadata": {},
   "outputs": [
    {
     "data": {
      "text/html": [
       "\n",
       "                <div id='midiPlayerDiv1831'></div>\n",
       "                <link rel=\"stylesheet\" href=\"//cuthbertLab.github.io/music21j/css/m21.css\"\n",
       "                    type=\"text/css\" />\n",
       "                \n",
       "                <script>\n",
       "                require.config({\n",
       "                    paths: {'music21': '//cuthbertLab.github.io/music21j/src/music21'}\n",
       "                });\n",
       "                require(['music21'], function() {\n",
       "                               mp = new music21.miditools.MidiPlayer();\n",
       "                               mp.addPlayer('#midiPlayerDiv1831');\n",
       "                               mp.base64Load('data:audio/midi;base64,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');\n",
       "                        });\n",
       "                </script>"
      ],
      "text/plain": [
       "<IPython.core.display.HTML object>"
      ]
     },
     "metadata": {},
     "output_type": "display_data"
    }
   ],
   "source": [
    "new.show('midi')"
   ]
  },
  {
   "cell_type": "code",
   "execution_count": 19,
   "id": "2d0dc717",
   "metadata": {},
   "outputs": [],
   "source": [
    "s = stream.Stream()   \n",
    "for i in range(1,12):\n",
    "    if i % 10 == 0:\n",
    "        sil = note.Rest()\n",
    "    if primo(i):\n",
    "        #print (\"El número \",i,\" es primo\")\n",
    "        n = note.Note(70, type='half') ### types es la duración de la nota\n",
    "        s.append(n)\n",
    "    else:\n",
    "        #print (\"El número \",i,\" NO es primo\")\n",
    "        nota_2 = note.Note(81, type='half')\n",
    "        s.append(nota_2)"
   ]
  },
  {
   "cell_type": "code",
   "execution_count": 20,
   "id": "19491039",
   "metadata": {},
   "outputs": [],
   "source": [
    "s = stream.Stream()   \n",
    "for i in range(1,101):\n",
    "    if i % 10 == 0:\n",
    "        sil = note.Rest()\n",
    "        sil.duration.quarterLength = 2.0\n",
    "        s.append(sil)\n",
    "    if primo(i):\n",
    "        #print (\"El número \",i,\" es primo\")\n",
    "        n = note.Note(70, type='half') ### types es la duración de la nota\n",
    "        s.append(n)\n",
    "    else:\n",
    "        #print (\"El número \",i,\" NO es primo\")\n",
    "        nota_2 = note.Note(81, type='half')\n",
    "        s.append(nota_2)"
   ]
  },
  {
   "cell_type": "code",
   "execution_count": 21,
   "id": "13db569c",
   "metadata": {},
   "outputs": [
    {
     "data": {
      "text/html": [
       "\n",
       "                <div id='midiPlayerDiv2401'></div>\n",
       "                <link rel=\"stylesheet\" href=\"//cuthbertLab.github.io/music21j/css/m21.css\"\n",
       "                    type=\"text/css\" />\n",
       "                \n",
       "                <script>\n",
       "                require.config({\n",
       "                    paths: {'music21': '//cuthbertLab.github.io/music21j/src/music21'}\n",
       "                });\n",
       "                require(['music21'], function() {\n",
       "                               mp = new music21.miditools.MidiPlayer();\n",
       "                               mp.addPlayer('#midiPlayerDiv2401');\n",
       "                               mp.base64Load('data:audio/midi;base64,TVRoZAAAAAYAAQACBABNVHJrAAAAFAD/UQMHoSAA/1gEBAIYCIgA/y8ATVRyawAAA5wA/wMAAOAAQIgAkFFakACAUQAAkEZakACARgAAkEZakACARgAAkFFakACAUQAAkEZakACARgAAkFFakACAUQAAkEZakACARgAAkFFakACAUQAAkFFakACAUQCQAJBRWpAAgFEAAJBGWpAAgEYAAJBRWpAAgFEAAJBGWpAAgEYAAJBRWpAAgFEAAJBRWpAAgFEAAJBRWpAAgFEAAJBGWpAAgEYAAJBRWpAAgFEAAJBGWpAAgEYAkACQUVqQAIBRAACQUVqQAIBRAACQUVqQAIBRAACQRlqQAIBGAACQUVqQAIBRAACQUVqQAIBRAACQUVqQAIBRAACQUVqQAIBRAACQUVqQAIBRAACQRlqQAIBGAJAAkFFakACAUQAAkEZakACARgAAkFFakACAUQAAkFFakACAUQAAkFFakACAUQAAkFFakACAUQAAkFFakACAUQAAkEZakACARgAAkFFakACAUQAAkFFakACAUQCQAJBRWpAAgFEAAJBGWpAAgEYAAJBRWpAAgFEAAJBGWpAAgEYAAJBRWpAAgFEAAJBRWpAAgFEAAJBRWpAAgFEAAJBGWpAAgEYAAJBRWpAAgFEAAJBRWpAAgFEAkACQUVqQAIBRAACQUVqQAIBRAACQUVqQAIBRAACQRlqQAIBGAACQUVqQAIBRAACQUVqQAIBRAACQUVqQAIBRAACQUVqQAIBRAACQUVqQAIBRAACQRlqQAIBGAJAAkFFakACAUQAAkEZakACARgAAkFFakACAUQAAkFFakACAUQAAkFFakACAUQAAkFFakACAUQAAkFFakACAUQAAkEZakACARgAAkFFakACAUQAAkFFakACAUQCQAJBRWpAAgFEAAJBGWpAAgEYAAJBRWpAAgFEAAJBGWpAAgEYAAJBRWpAAgFEAAJBRWpAAgFEAAJBRWpAAgFEAAJBRWpAAgFEAAJBRWpAAgFEAAJBGWpAAgEYAkACQUVqQAIBRAACQUVqQAIBRAACQUVqQAIBRAACQRlqQAIBGAACQUVqQAIBRAACQUVqQAIBRAACQUVqQAIBRAACQUVqQAIBRAACQUVqQAIBRAACQRlqQAIBGAJAAkFFakACAUQAAkFFakACAUQAAkFFakACAUQAAkFFakACAUQAAkFFakACAUQAAkFFakACAUQAAkFFakACAUQAAkEZakACARgAAkFFakACAUQAAkFFakACAUQCQAJBRWpAAgFEAiAD/LwA=');\n",
       "                        });\n",
       "                </script>"
      ],
      "text/plain": [
       "<IPython.core.display.HTML object>"
      ]
     },
     "metadata": {},
     "output_type": "display_data"
    }
   ],
   "source": [
    "s.show('midi')"
   ]
  },
  {
   "cell_type": "code",
   "execution_count": null,
   "id": "8bc7021f",
   "metadata": {},
   "outputs": [],
   "source": []
  }
 ],
 "metadata": {
  "kernelspec": {
   "display_name": "Python 3 (ipykernel)",
   "language": "python",
   "name": "python3"
  },
  "language_info": {
   "codemirror_mode": {
    "name": "ipython",
    "version": 3
   },
   "file_extension": ".py",
   "mimetype": "text/x-python",
   "name": "python",
   "nbconvert_exporter": "python",
   "pygments_lexer": "ipython3",
   "version": "3.10.8"
  }
 },
 "nbformat": 4,
 "nbformat_minor": 5
}
