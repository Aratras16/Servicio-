{
 "cells": [
  {
   "cell_type": "code",
   "execution_count": 1,
   "id": "9197ce8f",
   "metadata": {},
   "outputs": [],
   "source": [
    "from music21 import *"
   ]
  },
  {
   "cell_type": "markdown",
   "id": "efe00679",
   "metadata": {},
   "source": [
    "# El Algoritmo de Euclides genera ritmos musicales tradicionales\n",
    "\n"
   ]
  },
  {
   "cell_type": "markdown",
   "id": "d6ea6fdb",
   "metadata": {},
   "source": [
    "## Sistemas de tiempo en un acelerador de Neutrones"
   ]
  },
  {
   "cell_type": "code",
   "execution_count": 2,
   "id": "0e462fb5",
   "metadata": {},
   "outputs": [],
   "source": [
    "#obtenido de https://github.com/brianhouse/bjorklund\n",
    "def bjork(steps, pulses):\n",
    "    steps = int(steps)\n",
    "    pulses = int(pulses)\n",
    "    if pulses > steps:\n",
    "        raise ValueError    \n",
    "    pattern = []    \n",
    "    counts = []\n",
    "    remainders = []\n",
    "    divisor = steps - pulses\n",
    "    remainders.append(pulses)\n",
    "    level = 0\n",
    "    while True:\n",
    "        counts.append(divisor // remainders[level])\n",
    "        remainders.append(divisor % remainders[level])\n",
    "        divisor = remainders[level]\n",
    "        level = level + 1\n",
    "        if remainders[level] <= 1:\n",
    "            break\n",
    "    counts.append(divisor)\n",
    "    \n",
    "    def build(level):\n",
    "        if level == -1:\n",
    "            pattern.append(0)\n",
    "        elif level == -2:\n",
    "            pattern.append(1)         \n",
    "        else:\n",
    "            for i in range(0, counts[level]):\n",
    "                build(level - 1)\n",
    "            if remainders[level] != 0:\n",
    "                build(level - 2)\n",
    "    \n",
    "    build(level)\n",
    "    i = pattern.index(1)\n",
    "    pattern = pattern[i:] + pattern[0:i]\n",
    "    return pattern\n"
   ]
  },
  {
   "cell_type": "markdown",
   "id": "7c606c8a",
   "metadata": {},
   "source": [
    "## El algoritmo de euclides"
   ]
  },
  {
   "cell_type": "code",
   "execution_count": 3,
   "id": "1e074684",
   "metadata": {},
   "outputs": [],
   "source": [
    "def algoritmo_euclides(m,k):\n",
    "    if k==0:\n",
    "        return m\n",
    "    else:\n",
    "        return algoritmo_euclides(k,m % k)"
   ]
  },
  {
   "cell_type": "markdown",
   "id": "c6b9852a",
   "metadata": {},
   "source": [
    "## Ritmos euclidianos en la Musica Tradicional del Mundo"
   ]
  },
  {
   "cell_type": "code",
   "execution_count": 4,
   "id": "458f3c73",
   "metadata": {},
   "outputs": [],
   "source": [
    "sucesion = []\n",
    "n=20\n",
    "k=4\n",
    "musiquita = stream.Stream()\n",
    "if algoritmo_euclides(n,k) != 1:\n",
    "    for i in range(k):\n",
    "        sucesion.append(1)\n",
    "        nota = note.Note(int(34),type='half')\n",
    "        musiquita.append(nota)\n",
    "        for j in range((k % n)-1):\n",
    "            sucesion.append(0)\n",
    "            silencio = note.Rest()\n",
    "            musiquita.append(silencio)"
   ]
  },
  {
   "cell_type": "code",
   "execution_count": 5,
   "id": "b720a520",
   "metadata": {},
   "outputs": [
    {
     "data": {
      "text/plain": [
       "[1, 0, 0, 0, 1, 0, 0, 0, 1, 0, 0, 0, 1, 0, 0, 0]"
      ]
     },
     "execution_count": 5,
     "metadata": {},
     "output_type": "execute_result"
    }
   ],
   "source": [
    "sucesion"
   ]
  },
  {
   "cell_type": "code",
   "execution_count": 6,
   "id": "fa71af87",
   "metadata": {},
   "outputs": [
    {
     "data": {
      "text/plain": [
       "16"
      ]
     },
     "execution_count": 6,
     "metadata": {},
     "output_type": "execute_result"
    }
   ],
   "source": [
    "len(sucesion)"
   ]
  },
  {
   "cell_type": "code",
   "execution_count": 7,
   "id": "3971751e",
   "metadata": {},
   "outputs": [
    {
     "data": {
      "text/html": [
       "\n",
       "                <div id='midiPlayerDiv88'></div>\n",
       "                <link rel=\"stylesheet\" href=\"//cuthbertLab.github.io/music21j/css/m21.css\"\n",
       "                    type=\"text/css\" />\n",
       "                \n",
       "                <script>\n",
       "                require.config({\n",
       "                    paths: {'music21': '//cuthbertLab.github.io/music21j/src/music21'}\n",
       "                });\n",
       "                require(['music21'], function() {\n",
       "                               mp = new music21.miditools.MidiPlayer();\n",
       "                               mp.addPlayer('#midiPlayerDiv88');\n",
       "                               mp.base64Load('data:audio/midi;base64,TVRoZAAAAAYAAQACBABNVHJrAAAAFAD/UQMHoSAA/1gEBAIYCIgA/y8ATVRyawAAADUA/wMAAOAAQIgAkCJakACAIgCYAJAiWpAAgCIAmACQIlqQAIAiAJgAkCJakACAIgCIAP8vAA==');\n",
       "                        });\n",
       "                </script>"
      ],
      "text/plain": [
       "<IPython.core.display.HTML object>"
      ]
     },
     "metadata": {},
     "output_type": "display_data"
    }
   ],
   "source": [
    "musiquita.show('midi')"
   ]
  },
  {
   "cell_type": "markdown",
   "id": "338f6f9e",
   "metadata": {},
   "source": [
    "Algoritmo de Bjorklund"
   ]
  },
  {
   "cell_type": "code",
   "execution_count": 11,
   "id": "818229cf",
   "metadata": {},
   "outputs": [],
   "source": [
    "musiquita = stream.Stream()\n",
    "n = 13\n",
    "k = 5\n",
    "for i in range(len(bjork(n,k))):\n",
    "    if bjork(n,k)[i:i+1] == [1]:\n",
    "        nota = note.Note(int(24),type='whole')\n",
    "        musiquita.append(nota)\n",
    "    else:\n",
    "        silencio = note.Note(int(1000),type='whole')\n",
    "        musiquita.append(silencio)"
   ]
  },
  {
   "cell_type": "code",
   "execution_count": 12,
   "id": "862791da",
   "metadata": {},
   "outputs": [
    {
     "data": {
      "text/html": [
       "\n",
       "                <div id='midiPlayerDiv308'></div>\n",
       "                <link rel=\"stylesheet\" href=\"//cuthbertLab.github.io/music21j/css/m21.css\"\n",
       "                    type=\"text/css\" />\n",
       "                \n",
       "                <script>\n",
       "                require.config({\n",
       "                    paths: {'music21': '//cuthbertLab.github.io/music21j/src/music21'}\n",
       "                });\n",
       "                require(['music21'], function() {\n",
       "                               mp = new music21.miditools.MidiPlayer();\n",
       "                               mp.addPlayer('#midiPlayerDiv308');\n",
       "                               mp.base64Load('data:audio/midi;base64,TVRoZAAAAAYAAQACBABNVHJrAAAAFAD/UQMHoSAA/1gEBAIYCIgA/y8ATVRyawAAAIMA/wMAAOAAQIgAkBhaoACAGAAAkHxaoACAfAAAkHxaoACAfAAAkBhaoACAGAAAkHxaoACAfAAAkBhaoACAGAAAkHxaoACAfAAAkHxaoACAfAAAkBhaoACAGAAAkHxaoACAfAAAkBhaoACAGAAAkHxaoACAfAAAkHxaoACAfACIAP8vAA==');\n",
       "                        });\n",
       "                </script>"
      ],
      "text/plain": [
       "<IPython.core.display.HTML object>"
      ]
     },
     "metadata": {},
     "output_type": "display_data"
    }
   ],
   "source": [
    "musiquita.show('midi')"
   ]
  },
  {
   "cell_type": "code",
   "execution_count": 45,
   "id": "8d769562",
   "metadata": {},
   "outputs": [],
   "source": [
    "def ritmo_euclideano(n,k):\n",
    "    musiquita = stream.Stream()\n",
    "    for i in range(len(bjork(n,k))):\n",
    "        if bjork(n,k)[i:i+1] == [1]:\n",
    "            nota = note.Note(int(24),type='whole')\n",
    "            musiquita.append(nota)\n",
    "        else:\n",
    "            silencio = note.Rest()\n",
    "            musiquita.append(silencio)\n",
    "    return musiquita\n"
   ]
  },
  {
   "cell_type": "code",
   "execution_count": 46,
   "id": "64acab4b",
   "metadata": {},
   "outputs": [
    {
     "data": {
      "text/html": [
       "\n",
       "                <div id='midiPlayerDiv673'></div>\n",
       "                <link rel=\"stylesheet\" href=\"//cuthbertLab.github.io/music21j/css/m21.css\"\n",
       "                    type=\"text/css\" />\n",
       "                \n",
       "                <script>\n",
       "                require.config({\n",
       "                    paths: {'music21': '//cuthbertLab.github.io/music21j/src/music21'}\n",
       "                });\n",
       "                require(['music21'], function() {\n",
       "                               mp = new music21.miditools.MidiPlayer();\n",
       "                               mp.addPlayer('#midiPlayerDiv673');\n",
       "                               mp.base64Load('data:audio/midi;base64,TVRoZAAAAAYAAQACBABNVHJrAAAAFAD/UQMHoSAA/1gEBAIYCIgA/y8ATVRyawAAAD8A/wMAAOAAQIgAkBhaoACAGACQAJAYWqAAgBgAiACQGFqgAIAYAJAAkBhaoACAGACIAJAYWqAAgBgAiAD/LwA=');\n",
       "                        });\n",
       "                </script>"
      ],
      "text/plain": [
       "<IPython.core.display.HTML object>"
      ]
     },
     "metadata": {},
     "output_type": "display_data"
    }
   ],
   "source": [
    "ritmo_euclideano(13,5).show('midi')"
   ]
  },
  {
   "cell_type": "code",
   "execution_count": 44,
   "id": "ddaee3a8",
   "metadata": {},
   "outputs": [
    {
     "data": {
      "text/plain": [
       "[1, 0, 0, 1, 0, 1, 0, 0, 1, 0, 1, 0, 0]"
      ]
     },
     "execution_count": 44,
     "metadata": {},
     "output_type": "execute_result"
    }
   ],
   "source": [
    "bjork(13,5)"
   ]
  },
  {
   "cell_type": "code",
   "execution_count": null,
   "id": "a9e715df",
   "metadata": {},
   "outputs": [],
   "source": []
  }
 ],
 "metadata": {
  "kernelspec": {
   "display_name": "Python 3 (ipykernel)",
   "language": "python",
   "name": "python3"
  },
  "language_info": {
   "codemirror_mode": {
    "name": "ipython",
    "version": 3
   },
   "file_extension": ".py",
   "mimetype": "text/x-python",
   "name": "python",
   "nbconvert_exporter": "python",
   "pygments_lexer": "ipython3",
   "version": "3.9.12"
  }
 },
 "nbformat": 4,
 "nbformat_minor": 5
}
