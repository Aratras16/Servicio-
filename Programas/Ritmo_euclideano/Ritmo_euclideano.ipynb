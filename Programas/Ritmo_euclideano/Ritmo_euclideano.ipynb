{
 "cells": [
  {
   "cell_type": "code",
   "execution_count": 1,
   "id": "e6be3ffb",
   "metadata": {},
   "outputs": [],
   "source": [
    "from iteration_utilities import deepflatten\n",
    "from music21 import *"
   ]
  },
  {
   "cell_type": "code",
   "execution_count": 2,
   "id": "9759d1f3",
   "metadata": {},
   "outputs": [],
   "source": [
    "def ritmo_euclideano(n,k):\n",
    "    if k > n:\n",
    "        k, n = n, k\n",
    "    if n%k == 0:\n",
    "        k1 = k\n",
    "        n, k = int(n/k), 1\n",
    "        L = [ 1 for x in range(k)] + [0 for x in range(n-k)]\n",
    "        return k1*L\n",
    "    L = [ 1 for x in range(k)] + [0 for x in range(n-k)]\n",
    "    LL = L\n",
    "    while LL[-1] == LL[-2]:            \n",
    "        L3 = [ x for x in LL if x==LL[-1]]\n",
    "        L4 = []\n",
    "        for seq in range(min(len(LL)-len(L3), len(L3))):\n",
    "            LLL = [LL[seq]] + [L3[seq]]\n",
    "            L4 += [LLL]\n",
    "        LL = L4 + LL[min(len(LL)-len(L3), len(L3)): max(len(LL)-len(L3), len(L3))]\n",
    "    return list(deepflatten(LL))"
   ]
  },
  {
   "cell_type": "code",
   "execution_count": 3,
   "id": "5aef7dc9",
   "metadata": {},
   "outputs": [
    {
     "data": {
      "text/plain": [
       "[1, 0, 0, 1, 0, 1, 0, 0, 1, 0, 1, 0, 0]"
      ]
     },
     "execution_count": 3,
     "metadata": {},
     "output_type": "execute_result"
    }
   ],
   "source": [
    "ritmo_euclideano(13,5)"
   ]
  },
  {
   "cell_type": "code",
   "execution_count": 11,
   "id": "336ad9a1",
   "metadata": {},
   "outputs": [],
   "source": [
    "def sonorizacion(n,k):\n",
    "    musiquita = stream.Stream()\n",
    "    for i in range(len(ritmo_euclideano(n,k))):\n",
    "        if ritmo_euclideano(n,k)[i:i+1] == [1]:\n",
    "            nota = note.Note(int(24),type='half')\n",
    "            musiquita.append(nota)\n",
    "        else:\n",
    "            silencio = note.Rest()\n",
    "            musiquita.append(silencio)\n",
    "    return musiquita"
   ]
  },
  {
   "cell_type": "code",
   "execution_count": 13,
   "id": "974305b5",
   "metadata": {},
   "outputs": [
    {
     "data": {
      "text/html": [
       "\n",
       "                <div id='midiPlayerDiv86'></div>\n",
       "                <link rel=\"stylesheet\" href=\"//cuthbertLab.github.io/music21j/css/m21.css\"\n",
       "                    type=\"text/css\" />\n",
       "                \n",
       "                <script>\n",
       "                require.config({\n",
       "                    paths: {'music21': '//cuthbertLab.github.io/music21j/src/music21'}\n",
       "                });\n",
       "                require(['music21'], function() {\n",
       "                               mp = new music21.miditools.MidiPlayer();\n",
       "                               mp.addPlayer('#midiPlayerDiv86');\n",
       "                               mp.base64Load('data:audio/midi;base64,TVRoZAAAAAYAAQACBABNVHJrAAAAFAD/UQMHoSAA/1gEBAIYCIgA/y8ATVRyawAAAD8A/wMAAOAAQIgAkBhakACAGACQAJAYWpAAgBgAiACQGFqQAIAYAJAAkBhakACAGACIAJAYWpAAgBgAiAD/LwA=');\n",
       "                        });\n",
       "                </script>"
      ],
      "text/plain": [
       "<IPython.core.display.HTML object>"
      ]
     },
     "metadata": {},
     "output_type": "display_data"
    }
   ],
   "source": [
    "sonorizacion(13,5).show('midi')"
   ]
  },
  {
   "cell_type": "code",
   "execution_count": null,
   "id": "fba0b3c4",
   "metadata": {},
   "outputs": [],
   "source": []
  }
 ],
 "metadata": {
  "kernelspec": {
   "display_name": "Python 3 (ipykernel)",
   "language": "python",
   "name": "python3"
  },
  "language_info": {
   "codemirror_mode": {
    "name": "ipython",
    "version": 3
   },
   "file_extension": ".py",
   "mimetype": "text/x-python",
   "name": "python",
   "nbconvert_exporter": "python",
   "pygments_lexer": "ipython3",
   "version": "3.9.12"
  }
 },
 "nbformat": 4,
 "nbformat_minor": 5
}
